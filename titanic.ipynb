{
 "cells": [
  {
   "cell_type": "code",
   "execution_count": 1,
   "id": "6484a938",
   "metadata": {},
   "outputs": [],
   "source": [
    "import pandas as pd\n",
    "import numpy as np\n",
    "import matplotlib as plot\n",
    "import matplotlib.pyplot as plt\n",
    "from collections import Counter\n",
    "import seaborn as sn\n",
    "sn.set_style('darkgrid')\n",
    "from pyecharts.charts import bar\n",
    "from pyecharts.charts.bar import Bar\n",
    "from pyecharts.charts import pie\n",
    "\n",
    "#忽视警告，中文乱码,显示全部\n",
    "import statsmodels.api as sm\n",
    "import warnings\n",
    "warnings.filterwarnings(\"ignore\")\n",
    "from pylab import mpl\n",
    "mpl.rcParams['font.sans-serif'] = ['SimHei'] # 指定默认字体\n",
    "mpl.rcParams['axes.unicode_minus'] = False # 解决保存图像是负号'-'显示为方块的问题\n",
    "pd.set_option('display.max_columns', None)  # 输出结果显示全部列"
   ]
  },
  {
   "cell_type": "code",
   "execution_count": 2,
   "id": "f2c41660",
   "metadata": {},
   "outputs": [],
   "source": [
    "#留档\n",
    "df_original = pd.read_csv('titanic_train.csv')\n",
    "test = pd.read_csv('titanic_test.csv')\n",
    "test_original = pd.read_csv('titanic_test.csv')\n",
    "PassengerId =test_original['PassengerId']"
   ]
  },
  {
   "cell_type": "markdown",
   "id": "322d9b4d",
   "metadata": {},
   "source": [
    "# 数据基本情况"
   ]
  },
  {
   "cell_type": "code",
   "execution_count": 3,
   "id": "16e5fdd4",
   "metadata": {},
   "outputs": [
    {
     "data": {
      "text/html": [
       "<div>\n",
       "<style scoped>\n",
       "    .dataframe tbody tr th:only-of-type {\n",
       "        vertical-align: middle;\n",
       "    }\n",
       "\n",
       "    .dataframe tbody tr th {\n",
       "        vertical-align: top;\n",
       "    }\n",
       "\n",
       "    .dataframe thead th {\n",
       "        text-align: right;\n",
       "    }\n",
       "</style>\n",
       "<table border=\"1\" class=\"dataframe\">\n",
       "  <thead>\n",
       "    <tr style=\"text-align: right;\">\n",
       "      <th></th>\n",
       "      <th>PassengerId</th>\n",
       "      <th>Survived</th>\n",
       "      <th>Pclass</th>\n",
       "      <th>Age</th>\n",
       "      <th>SibSp</th>\n",
       "      <th>Parch</th>\n",
       "      <th>Fare</th>\n",
       "    </tr>\n",
       "  </thead>\n",
       "  <tbody>\n",
       "    <tr>\n",
       "      <th>count</th>\n",
       "      <td>891.000000</td>\n",
       "      <td>891.000000</td>\n",
       "      <td>891.000000</td>\n",
       "      <td>714.000000</td>\n",
       "      <td>891.000000</td>\n",
       "      <td>891.000000</td>\n",
       "      <td>891.000000</td>\n",
       "    </tr>\n",
       "    <tr>\n",
       "      <th>mean</th>\n",
       "      <td>446.000000</td>\n",
       "      <td>0.383838</td>\n",
       "      <td>2.308642</td>\n",
       "      <td>29.699118</td>\n",
       "      <td>0.523008</td>\n",
       "      <td>0.381594</td>\n",
       "      <td>32.204208</td>\n",
       "    </tr>\n",
       "    <tr>\n",
       "      <th>std</th>\n",
       "      <td>257.353842</td>\n",
       "      <td>0.486592</td>\n",
       "      <td>0.836071</td>\n",
       "      <td>14.526497</td>\n",
       "      <td>1.102743</td>\n",
       "      <td>0.806057</td>\n",
       "      <td>49.693429</td>\n",
       "    </tr>\n",
       "    <tr>\n",
       "      <th>min</th>\n",
       "      <td>1.000000</td>\n",
       "      <td>0.000000</td>\n",
       "      <td>1.000000</td>\n",
       "      <td>0.420000</td>\n",
       "      <td>0.000000</td>\n",
       "      <td>0.000000</td>\n",
       "      <td>0.000000</td>\n",
       "    </tr>\n",
       "    <tr>\n",
       "      <th>25%</th>\n",
       "      <td>223.500000</td>\n",
       "      <td>0.000000</td>\n",
       "      <td>2.000000</td>\n",
       "      <td>20.125000</td>\n",
       "      <td>0.000000</td>\n",
       "      <td>0.000000</td>\n",
       "      <td>7.910400</td>\n",
       "    </tr>\n",
       "    <tr>\n",
       "      <th>50%</th>\n",
       "      <td>446.000000</td>\n",
       "      <td>0.000000</td>\n",
       "      <td>3.000000</td>\n",
       "      <td>28.000000</td>\n",
       "      <td>0.000000</td>\n",
       "      <td>0.000000</td>\n",
       "      <td>14.454200</td>\n",
       "    </tr>\n",
       "    <tr>\n",
       "      <th>75%</th>\n",
       "      <td>668.500000</td>\n",
       "      <td>1.000000</td>\n",
       "      <td>3.000000</td>\n",
       "      <td>38.000000</td>\n",
       "      <td>1.000000</td>\n",
       "      <td>0.000000</td>\n",
       "      <td>31.000000</td>\n",
       "    </tr>\n",
       "    <tr>\n",
       "      <th>max</th>\n",
       "      <td>891.000000</td>\n",
       "      <td>1.000000</td>\n",
       "      <td>3.000000</td>\n",
       "      <td>80.000000</td>\n",
       "      <td>8.000000</td>\n",
       "      <td>6.000000</td>\n",
       "      <td>512.329200</td>\n",
       "    </tr>\n",
       "  </tbody>\n",
       "</table>\n",
       "</div>"
      ],
      "text/plain": [
       "       PassengerId    Survived      Pclass         Age       SibSp  \\\n",
       "count   891.000000  891.000000  891.000000  714.000000  891.000000   \n",
       "mean    446.000000    0.383838    2.308642   29.699118    0.523008   \n",
       "std     257.353842    0.486592    0.836071   14.526497    1.102743   \n",
       "min       1.000000    0.000000    1.000000    0.420000    0.000000   \n",
       "25%     223.500000    0.000000    2.000000   20.125000    0.000000   \n",
       "50%     446.000000    0.000000    3.000000   28.000000    0.000000   \n",
       "75%     668.500000    1.000000    3.000000   38.000000    1.000000   \n",
       "max     891.000000    1.000000    3.000000   80.000000    8.000000   \n",
       "\n",
       "            Parch        Fare  \n",
       "count  891.000000  891.000000  \n",
       "mean     0.381594   32.204208  \n",
       "std      0.806057   49.693429  \n",
       "min      0.000000    0.000000  \n",
       "25%      0.000000    7.910400  \n",
       "50%      0.000000   14.454200  \n",
       "75%      0.000000   31.000000  \n",
       "max      6.000000  512.329200  "
      ]
     },
     "execution_count": 3,
     "metadata": {},
     "output_type": "execute_result"
    }
   ],
   "source": [
    "df =  pd.read_csv('titanic_train.csv')\n",
    "\n",
    "df.describe()\n"
   ]
  },
  {
   "cell_type": "markdown",
   "id": "97ba8d9a",
   "metadata": {},
   "source": [
    "### 整体来看\n",
    "### 生还率为38%\n",
    "### 平均年龄30，基本无偏\n",
    "### 平均票价32，但是票价呈左偏\n",
    "### 有为0的票价"
   ]
  },
  {
   "cell_type": "code",
   "execution_count": 4,
   "id": "8d3352b6",
   "metadata": {},
   "outputs": [
    {
     "name": "stdout",
     "output_type": "stream",
     "text": [
      "<class 'pandas.core.frame.DataFrame'>\n",
      "RangeIndex: 891 entries, 0 to 890\n",
      "Data columns (total 12 columns):\n",
      " #   Column       Non-Null Count  Dtype  \n",
      "---  ------       --------------  -----  \n",
      " 0   PassengerId  891 non-null    int64  \n",
      " 1   Survived     891 non-null    int64  \n",
      " 2   Pclass       891 non-null    int64  \n",
      " 3   Name         891 non-null    object \n",
      " 4   Sex          891 non-null    object \n",
      " 5   Age          714 non-null    float64\n",
      " 6   SibSp        891 non-null    int64  \n",
      " 7   Parch        891 non-null    int64  \n",
      " 8   Ticket       891 non-null    object \n",
      " 9   Fare         891 non-null    float64\n",
      " 10  Cabin        204 non-null    object \n",
      " 11  Embarked     889 non-null    object \n",
      "dtypes: float64(2), int64(5), object(5)\n",
      "memory usage: 83.7+ KB\n"
     ]
    }
   ],
   "source": [
    "df.info()"
   ]
  },
  {
   "cell_type": "markdown",
   "id": "392ec698",
   "metadata": {},
   "source": [
    "### 年龄有177条缺失值\n",
    "### 客舱有687条缺失值\n",
    "### 登船口Embarked有2条缺失值"
   ]
  },
  {
   "cell_type": "markdown",
   "id": "20f4d55c",
   "metadata": {},
   "source": [
    "# 数据探索"
   ]
  },
  {
   "cell_type": "code",
   "execution_count": 4,
   "id": "c1737bf1",
   "metadata": {},
   "outputs": [
    {
     "data": {
      "text/html": [
       "<div id=\"2022-08-16 21:41:13.520366\" style=\"width:800px; height:400px;\"></div>\n",
       "<script>\n",
       "    require.config({\n",
       "         paths:{\n",
       "             echarts: '/nbextensions/echarts/echarts.min',\n",
       "             echartsgl: '/nbextensions/echarts/echarts-gl.min',\n",
       "             wordcloud: '/nbextensions/echarts/echarts-wordcloud.min',\n",
       "             liquidfill: '/nbextensions/echarts/echarts-liquidfill.min',\n",
       "             china: '/nbextensions/echarts/china'\n",
       "         }\n",
       "    });\n",
       "    require(['echarts', 'echartsgl', 'wordcloud', 'liquidfill', 'china'],function(ec){\n",
       "    var myChart = ec.init(document.getElementById('2022-08-16 21:41:13.520366'));\n",
       "               var option =  {\n",
       "    \"title\": [\n",
       "        {\n",
       "            \"text\": \"\\u5404\\u4ed3\\u4f4d\\u7537\\u5973\\u751f\\u8fd8\\u7387\\u5bf9\\u6bd4\",\n",
       "            \"subtext\": \"\",\n",
       "            \"left\": \"auto\",\n",
       "            \"top\": \"auto\",\n",
       "            \"textStyle\": {\n",
       "                \"color\": \"#000\",\n",
       "                \"fontSize\": 18\n",
       "            },\n",
       "            \"subtextStyle\": {\n",
       "                \"color\": \"#aaa\",\n",
       "                \"fontSize\": 12\n",
       "            }\n",
       "        }\n",
       "    ],\n",
       "    \"toolbox\": {\n",
       "        \"show\": true,\n",
       "        \"orient\": \"vertical\",\n",
       "        \"left\": \"right\",\n",
       "        \"top\": \"center\",\n",
       "        \"feature\": {\n",
       "            \"saveAsImage\": {\n",
       "                \"show\": true\n",
       "            }\n",
       "        }\n",
       "    },\n",
       "    \"_index_flag\": 5970131,\n",
       "    \"tooltip\": {},\n",
       "    \"series\": [\n",
       "        {\n",
       "            \"type\": \"bar\",\n",
       "            \"name\": \"\\u5973\\u6027\",\n",
       "            \"data\": [\n",
       "                0.97,\n",
       "                0.92,\n",
       "                0.5\n",
       "            ],\n",
       "            \"stack\": \"\",\n",
       "            \"label\": {\n",
       "                \"normal\": {\n",
       "                    \"show\": false,\n",
       "                    \"position\": \"top\",\n",
       "                    \"textStyle\": {\n",
       "                        \"color\": \"#000\",\n",
       "                        \"fontSize\": 12\n",
       "                    },\n",
       "                    \"formatter\": null\n",
       "                },\n",
       "                \"emphasis\": {\n",
       "                    \"show\": true\n",
       "                }\n",
       "            },\n",
       "            \"markPoint\": {\n",
       "                \"data\": [\n",
       "                    {\n",
       "                        \"type\": \"max\",\n",
       "                        \"name\": \"\\u6700\\u5927\\u503c\",\n",
       "                        \"symbol\": \"pin\",\n",
       "                        \"symbolSize\": 50,\n",
       "                        \"label\": {\n",
       "                            \"normal\": {\n",
       "                                \"textStyle\": {\n",
       "                                    \"color\": \"#fff\"\n",
       "                                }\n",
       "                            }\n",
       "                        }\n",
       "                    },\n",
       "                    {\n",
       "                        \"type\": \"min\",\n",
       "                        \"name\": \"\\u6700\\u5c0f\\u503c\",\n",
       "                        \"symbol\": \"pin\",\n",
       "                        \"symbolSize\": 50,\n",
       "                        \"label\": {\n",
       "                            \"normal\": {\n",
       "                                \"textStyle\": {\n",
       "                                    \"color\": \"#fff\"\n",
       "                                }\n",
       "                            }\n",
       "                        }\n",
       "                    }\n",
       "                ]\n",
       "            },\n",
       "            \"markLine\": {\n",
       "                \"data\": [\n",
       "                    {\n",
       "                        \"type\": \"average\",\n",
       "                        \"name\": \"\\u5e73\\u5747\\u5024\"\n",
       "                    }\n",
       "                ]\n",
       "            },\n",
       "            \"indexflag\": 5970131\n",
       "        },\n",
       "        {\n",
       "            \"type\": \"bar\",\n",
       "            \"name\": \"\\u7537\\u6027\",\n",
       "            \"data\": [\n",
       "                0.37,\n",
       "                0.16,\n",
       "                0.14\n",
       "            ],\n",
       "            \"stack\": \"\",\n",
       "            \"label\": {\n",
       "                \"normal\": {\n",
       "                    \"show\": false,\n",
       "                    \"position\": \"top\",\n",
       "                    \"textStyle\": {\n",
       "                        \"color\": \"#000\",\n",
       "                        \"fontSize\": 12\n",
       "                    },\n",
       "                    \"formatter\": null\n",
       "                },\n",
       "                \"emphasis\": {\n",
       "                    \"show\": true\n",
       "                }\n",
       "            },\n",
       "            \"markPoint\": {\n",
       "                \"data\": [\n",
       "                    {\n",
       "                        \"type\": \"max\",\n",
       "                        \"name\": \"\\u6700\\u5927\\u503c\",\n",
       "                        \"symbol\": \"pin\",\n",
       "                        \"symbolSize\": 50,\n",
       "                        \"label\": {\n",
       "                            \"normal\": {\n",
       "                                \"textStyle\": {\n",
       "                                    \"color\": \"#fff\"\n",
       "                                }\n",
       "                            }\n",
       "                        }\n",
       "                    },\n",
       "                    {\n",
       "                        \"type\": \"min\",\n",
       "                        \"name\": \"\\u6700\\u5c0f\\u503c\",\n",
       "                        \"symbol\": \"pin\",\n",
       "                        \"symbolSize\": 50,\n",
       "                        \"label\": {\n",
       "                            \"normal\": {\n",
       "                                \"textStyle\": {\n",
       "                                    \"color\": \"#fff\"\n",
       "                                }\n",
       "                            }\n",
       "                        }\n",
       "                    }\n",
       "                ]\n",
       "            },\n",
       "            \"markLine\": {\n",
       "                \"data\": [\n",
       "                    {\n",
       "                        \"type\": \"average\",\n",
       "                        \"name\": \"\\u5e73\\u5747\\u5024\"\n",
       "                    }\n",
       "                ]\n",
       "            },\n",
       "            \"indexflag\": 5970131\n",
       "        }\n",
       "    ],\n",
       "    \"legend\": [\n",
       "        {\n",
       "            \"data\": [\n",
       "                \"\\u5973\\u6027\",\n",
       "                \"\\u7537\\u6027\"\n",
       "            ],\n",
       "            \"selectedMode\": \"multiple\",\n",
       "            \"show\": true,\n",
       "            \"left\": \"center\",\n",
       "            \"top\": \"top\",\n",
       "            \"orient\": \"horizontal\"\n",
       "        }\n",
       "    ],\n",
       "    \"backgroundColor\": \"#fff\",\n",
       "    \"xAxis\": [\n",
       "        {\n",
       "            \"name\": \"\",\n",
       "            \"nameLocation\": \"middle\",\n",
       "            \"nameGap\": 25,\n",
       "            \"nameTextStyle\": {\n",
       "                \"fontSize\": 14\n",
       "            },\n",
       "            \"axisLabel\": {\n",
       "                \"interval\": \"auto\",\n",
       "                \"rotate\": 0,\n",
       "                \"margin\": 8\n",
       "            },\n",
       "            \"axisTick\": {\n",
       "                \"alignWithLabel\": false\n",
       "            },\n",
       "            \"min\": null,\n",
       "            \"max\": null,\n",
       "            \"data\": [\n",
       "                \"\\u4e00\\u7b49\\u8231\",\n",
       "                \"\\u4e8c\\u7b49\\u8231\",\n",
       "                \"\\u4e09\\u7b49\\u8231\"\n",
       "            ],\n",
       "            \"type\": \"category\"\n",
       "        }\n",
       "    ],\n",
       "    \"yAxis\": [\n",
       "        {\n",
       "            \"name\": \"\",\n",
       "            \"nameLocation\": \"middle\",\n",
       "            \"nameGap\": 25,\n",
       "            \"nameTextStyle\": {\n",
       "                \"fontSize\": 14\n",
       "            },\n",
       "            \"axisLabel\": {\n",
       "                \"formatter\": \"{value} \",\n",
       "                \"rotate\": 0,\n",
       "                \"interval\": \"auto\",\n",
       "                \"margin\": 8\n",
       "            },\n",
       "            \"axisTick\": {\n",
       "                \"alignWithLabel\": false\n",
       "            },\n",
       "            \"min\": null,\n",
       "            \"max\": null,\n",
       "            \"type\": \"value\"\n",
       "        }\n",
       "    ],\n",
       "    \"color\": [\n",
       "        \"#c23531\",\n",
       "        \"#2f4554\",\n",
       "        \"#61a0a8\",\n",
       "        \"#d48265\",\n",
       "        \"#749f83\",\n",
       "        \"#ca8622\",\n",
       "        \"#bda29a\",\n",
       "        \"#6e7074\",\n",
       "        \"#546570\",\n",
       "        \"#c4ccd3\",\n",
       "        \"#f05b72\",\n",
       "        \"#ef5b9c\",\n",
       "        \"#f47920\",\n",
       "        \"#905a3d\",\n",
       "        \"#fab27b\",\n",
       "        \"#2a5caa\",\n",
       "        \"#444693\",\n",
       "        \"#726930\",\n",
       "        \"#b2d235\",\n",
       "        \"#6d8346\",\n",
       "        \"#ac6767\",\n",
       "        \"#1d953f\",\n",
       "        \"#6950a1\",\n",
       "        \"#918597\",\n",
       "        \"#f6f5ec\"\n",
       "    ]\n",
       "};\n",
       "               myChart.setOption(option);\n",
       "    });\n",
       "</script>\n"
      ],
      "text/plain": [
       "<pyecharts.charts.bar.Bar at 0x1a3c97315e0>"
      ]
     },
     "execution_count": 4,
     "metadata": {},
     "output_type": "execute_result"
    }
   ],
   "source": [
    "one_sur_male = len(df.query('Pclass == 1').query('Sex == \"male\"').query('Survived == 1'))/len(df.query('Pclass == 1').query('Sex == \"male\"'))\n",
    "one_sur_male = round(one_sur_male,2)\n",
    "one_sur_male\n",
    "one_sur_female = len(df.query('Pclass == 1').query('Sex == \"female\"').query('Survived == 1'))/len(df.query('Pclass == 1').query('Sex == \"female\"'))\n",
    "one_sur_female = round(one_sur_female,2)\n",
    "one_sur_female\n",
    "two_sur_male = len(df.query('Pclass == 2').query('Sex == \"male\"').query('Survived == 1'))/len(df.query('Pclass == 2').query('Sex == \"male\"'))\n",
    "two_sur_male = round(two_sur_male,2)\n",
    "two_sur_male\n",
    "two_sur_female = len(df.query('Pclass == 2').query('Sex == \"female\"').query('Survived == 1'))/len(df.query('Pclass == 2').query('Sex == \"female\"'))\n",
    "two_sur_female = round(two_sur_female,2)\n",
    "two_sur_female\n",
    "three_sur_male = len(df.query('Pclass == 3').query('Sex == \"male\"').query('Survived == 1'))/len(df.query('Pclass == 3').query('Sex == \"male\"'))\n",
    "three_sur_male = round(three_sur_male,2)\n",
    "three_sur_male\n",
    "three_sur_female = len(df.query('Pclass == 3').query('Sex == \"female\"').query('Survived == 1'))/len(df.query('Pclass == 3').query('Sex == \"female\"'))\n",
    "three_sur_female = round(three_sur_female,2)\n",
    "three_sur_female\n",
    "index_list = ['一等舱','二等舱','三等舱']\n",
    "male_list = [one_sur_male,two_sur_male,three_sur_male]\n",
    "female_list = [one_sur_female,two_sur_female,three_sur_female]\n",
    "bar = Bar('各仓位男女生还率对比')\n",
    "bar.add('女性',index_list,female_list,mark_line=['average'],mark_point=['max','min'])\n",
    "bar.add('男性',index_list,male_list,mark_line=['average'],mark_point=['max','min'])\n",
    "bar"
   ]
  },
  {
   "cell_type": "markdown",
   "id": "8abddfbe",
   "metadata": {},
   "source": [
    "## 女性优先，体现在各个等级的船舱中\n",
    "## 整体的生还率随船舱等级递减，即社会地位越高或越有财富的人生存几率越大"
   ]
  },
  {
   "cell_type": "code",
   "execution_count": 23,
   "id": "b22431e8",
   "metadata": {},
   "outputs": [
    {
     "data": {
      "image/png": "[encoded data removed]",
      "text/plain": [
       "<Figure size 864x504 with 1 Axes>"
      ]
     },
     "metadata": {},
     "output_type": "display_data"
    }
   ],
   "source": [
    "#各船舱年龄段的分布\n",
    "plt.figure(figsize=(12,7))\n",
    "df.query('Pclass == 1').Age.plot(kind='hist',color='red',histtype='step',label='一等舱')\n",
    "df.query('Pclass == 2').Age.plot(kind='hist',color='blue',histtype='step',label='二等舱')\n",
    "df.query('Pclass == 3').Age.plot(kind='hist',color='black',histtype='step',label='三等舱')\n",
    "plt.title('舱位等级年龄分布')\n",
    "plt.xlabel('Age')\n",
    "plt.ylabel('amount')\n",
    "plt.legend()\n",
    "plt.show()"
   ]
  },
  {
   "cell_type": "markdown",
   "id": "4d5eeaaf",
   "metadata": {},
   "source": [
    "## 三等舱的乘客年龄整体较为年轻\n",
    "## 二等舱大致集中在15-45之间\n",
    "## 一等舱分布较为均匀，大致在17-60之间，且较为对称\n",
    "## 总体来看，船舱等级越高，乘客年龄越大"
   ]
  },
  {
   "cell_type": "code",
   "execution_count": 25,
   "id": "90ded665",
   "metadata": {},
   "outputs": [
    {
     "data": {
      "image/png": "[encoded data removed]",
      "text/plain": [
       "<Figure size 1008x576 with 1 Axes>"
      ]
     },
     "metadata": {},
     "output_type": "display_data"
    }
   ],
   "source": [
    "#年龄对存活的影响\n",
    "plt.figure(figsize=(14,8))\n",
    "survived = df[df.Age.notnull()].query('Survived == 1').Age.plot(kind='hist',color='red',bins=70,label='幸存')\n",
    "un_survived = df[df.Age.notnull()].query('Survived == 0').Age.plot(kind='hist',color='blue',alpha=0.5,bins=70,label='遇难')\n",
    "plt.title('幸存与遇难对比图')\n",
    "plt.xlabel('Age')\n",
    "plt.ylabel('amount')\n",
    "plt.legend()\n",
    "plt.show()"
   ]
  },
  {
   "cell_type": "code",
   "execution_count": 120,
   "id": "b45db27b",
   "metadata": {},
   "outputs": [
    {
     "data": {
      "image/png": "[encoded data removed]",
      "text/plain": [
       "<Figure size 1008x576 with 1 Axes>"
      ]
     },
     "metadata": {},
     "output_type": "display_data"
    }
   ],
   "source": [
    "#不同性别关于年龄和是否存活的关系\n",
    "#女性\n",
    "plt.figure(figsize=(14,8))\n",
    "female_survived = df[df.Age.notnull()].query('Survived == 1').query('Sex == \"female\"').Age.plot(kind='hist',color='red',bins=70,label='幸存')\n",
    "female_un_survived = df[df.Age.notnull()].query('Survived == 0').query('Sex == \"female\"').Age.plot(kind='hist',color='blue',alpha=0.5,bins=70,label='遇难')\n",
    "plt.title('女性幸存与遇难对比图')\n",
    "plt.xlabel('Age')\n",
    "plt.ylabel('amount')\n",
    "plt.legend()\n",
    "plt.show()"
   ]
  },
  {
   "cell_type": "markdown",
   "id": "2894b3e8",
   "metadata": {},
   "source": [
    "## 女性的遇难率和存活率分布都较为均匀"
   ]
  },
  {
   "cell_type": "code",
   "execution_count": 121,
   "id": "991b4a46",
   "metadata": {},
   "outputs": [
    {
     "data": {
      "image/png": "[encoded data removed]",
      "text/plain": [
       "<Figure size 1008x576 with 1 Axes>"
      ]
     },
     "metadata": {},
     "output_type": "display_data"
    }
   ],
   "source": [
    "#不同性别关于年龄和是否存活的关系\n",
    "#男性\n",
    "plt.figure(figsize=(14,8))\n",
    "female_survived = df[df.Age.notnull()].query('Survived == 1').query('Sex == \"male\"').Age.plot(kind='hist',color='red',bins=70,label='幸存')\n",
    "female_un_survived = df[df.Age.notnull()].query('Survived == 0').query('Sex == \"male\"').Age.plot(kind='hist',color='blue',alpha=0.5,bins=70,label='遇难')\n",
    "plt.title('男性幸存与遇难对比图')\n",
    "plt.xlabel('Age')\n",
    "plt.ylabel('amount')\n",
    "plt.legend()\n",
    "plt.show()"
   ]
  },
  {
   "cell_type": "markdown",
   "id": "f7e6d707",
   "metadata": {},
   "source": [
    "### 男性的遇难率较大，集中在15-55之间\n",
    "### 且大于50岁的男性，存活率很低"
   ]
  },
  {
   "cell_type": "markdown",
   "id": "3685a5f5",
   "metadata": {},
   "source": [
    "# "
   ]
  },
  {
   "cell_type": "markdown",
   "id": "ac023895",
   "metadata": {},
   "source": [
    "### 同一年龄段，蓝色在红色之上表示遇难的比例更大，反之幸存的比例更大\n",
    "### 总体而言，很明显低年龄部分和80岁左右的幸存比例更高，体现了先救小孩老人的特点\n"
   ]
  },
  {
   "cell_type": "code",
   "execution_count": 5,
   "id": "6f6f72a3",
   "metadata": {},
   "outputs": [
    {
     "data": {
      "image/png": "[encoded data removed]",
      "text/plain": [
       "<Figure size 864x504 with 1 Axes>"
      ]
     },
     "metadata": {},
     "output_type": "display_data"
    }
   ],
   "source": [
    "#将SibSp：兄弟姐妹or配偶 和 Parch（父母 or 孩子）合为一列新变量family\n",
    "#family表示家庭中除自己以外的人数\n",
    "df['family'] = df['SibSp'] + df['Parch']\n",
    "kind = sorted(list(df.family.value_counts().index))\n",
    "proportion_list = []\n",
    "for i in kind:\n",
    "    proportion = len(df.query('family == {}'.format(i)).query('Survived == 1')) / len(df.query('family == {}'.format(i)))\n",
    "    proportion_list.append(proportion)\n",
    "plt.figure(figsize=(12,7))\n",
    "sn.barplot(x=kind,y=proportion_list)\n",
    "plt.title('family与生还率')\n",
    "plt.xlabel('family')\n",
    "plt.ylabel('生还率');"
   ]
  },
  {
   "cell_type": "markdown",
   "id": "3c2cdbf7",
   "metadata": {},
   "source": [
    "### 生还率有关家庭成员数量的分布并不均匀\n",
    "### 对于一大家人(7 or 10)，存活率为0\n",
    "### 从0-3，即从一个人到四个人一起，生还率逐步提高\n",
    "### 但是当家庭总人数变为5或6人时显著下降，7人时又有回升"
   ]
  },
  {
   "cell_type": "code",
   "execution_count": 27,
   "id": "251fe6de",
   "metadata": {},
   "outputs": [
    {
     "data": {
      "image/png": "[encoded data removed]",
      "text/plain": [
       "<Figure size 864x504 with 1 Axes>"
      ]
     },
     "metadata": {},
     "output_type": "display_data"
    }
   ],
   "source": [
    "family_type = df.family.value_counts().index\n",
    "family_amount = df.family.value_counts().values\n",
    "plt.figure(figsize=(12,7))\n",
    "sn.barplot(x=family_type,y=family_amount)\n",
    "plt.title('family与数量')\n",
    "plt.xlabel('family')\n",
    "plt.ylabel('数量');"
   ]
  },
  {
   "cell_type": "markdown",
   "id": "8f416fbf",
   "metadata": {},
   "source": [
    "## 结合family看0-16岁这块存活率较大的青少年"
   ]
  },
  {
   "cell_type": "code",
   "execution_count": 116,
   "id": "8cd774f7",
   "metadata": {},
   "outputs": [
    {
     "data": {
      "image/png": "[encoded data removed]",
      "text/plain": [
       "<Figure size 1008x576 with 1 Axes>"
      ]
     },
     "metadata": {},
     "output_type": "display_data"
    }
   ],
   "source": [
    "# 图片代码\n",
    "plt.figure(figsize=(14,8))\n",
    "df.query('0< Age < 16').query('Survived == 1').family.plot(kind='hist',color='blue',alpha=0.5,label='幸存')\n",
    "df.query('0< Age < 16').query('Survived == 0').family.plot(kind='hist',color='red',alpha=0.5,label='遇难')\n",
    "plt.title('0 ~ 16岁儿童的family数量生还与遇难对比')\n",
    "plt.xlabel('family')\n",
    "plt.ylabel('amount')\n",
    "plt.legend()\n",
    "plt.show()"
   ]
  },
  {
   "cell_type": "markdown",
   "id": "2c4f0ad6",
   "metadata": {},
   "source": [
    "### 综合发现，幸存的0-16岁青少年大部分的family集中在0-3之间"
   ]
  },
  {
   "cell_type": "markdown",
   "id": "de13a82f",
   "metadata": {},
   "source": [
    "# "
   ]
  },
  {
   "cell_type": "markdown",
   "id": "271c0fa5",
   "metadata": {},
   "source": [
    "### 观察各规模家庭的数量分布，可以看到独身一人上船的乘客占了很大比例\n",
    "### family分布从3-10的占比相当低"
   ]
  },
  {
   "cell_type": "code",
   "execution_count": 30,
   "id": "9b15e7d0",
   "metadata": {},
   "outputs": [
    {
     "data": {
      "text/html": [
       "<div>\n",
       "<style scoped>\n",
       "    .dataframe tbody tr th:only-of-type {\n",
       "        vertical-align: middle;\n",
       "    }\n",
       "\n",
       "    .dataframe tbody tr th {\n",
       "        vertical-align: top;\n",
       "    }\n",
       "\n",
       "    .dataframe thead th {\n",
       "        text-align: right;\n",
       "    }\n",
       "</style>\n",
       "<table border=\"1\" class=\"dataframe\">\n",
       "  <thead>\n",
       "    <tr style=\"text-align: right;\">\n",
       "      <th></th>\n",
       "      <th>PassengerId</th>\n",
       "      <th>Survived</th>\n",
       "      <th>Pclass</th>\n",
       "      <th>Name</th>\n",
       "      <th>Sex</th>\n",
       "      <th>Age</th>\n",
       "      <th>SibSp</th>\n",
       "      <th>Parch</th>\n",
       "      <th>Ticket</th>\n",
       "      <th>Fare</th>\n",
       "      <th>Cabin</th>\n",
       "      <th>Embarked</th>\n",
       "      <th>family</th>\n",
       "    </tr>\n",
       "  </thead>\n",
       "  <tbody>\n",
       "    <tr>\n",
       "      <th>25</th>\n",
       "      <td>26</td>\n",
       "      <td>1</td>\n",
       "      <td>3</td>\n",
       "      <td>Asplund, Mrs. Carl Oscar (Selma Augusta Emilia...</td>\n",
       "      <td>female</td>\n",
       "      <td>38.0</td>\n",
       "      <td>1</td>\n",
       "      <td>5</td>\n",
       "      <td>347077</td>\n",
       "      <td>31.3875</td>\n",
       "      <td>NaN</td>\n",
       "      <td>S</td>\n",
       "      <td>6</td>\n",
       "    </tr>\n",
       "    <tr>\n",
       "      <th>68</th>\n",
       "      <td>69</td>\n",
       "      <td>1</td>\n",
       "      <td>3</td>\n",
       "      <td>Andersson, Miss. Erna Alexandra</td>\n",
       "      <td>female</td>\n",
       "      <td>17.0</td>\n",
       "      <td>4</td>\n",
       "      <td>2</td>\n",
       "      <td>3101281</td>\n",
       "      <td>7.9250</td>\n",
       "      <td>NaN</td>\n",
       "      <td>S</td>\n",
       "      <td>6</td>\n",
       "    </tr>\n",
       "    <tr>\n",
       "      <th>233</th>\n",
       "      <td>234</td>\n",
       "      <td>1</td>\n",
       "      <td>3</td>\n",
       "      <td>Asplund, Miss. Lillian Gertrud</td>\n",
       "      <td>female</td>\n",
       "      <td>5.0</td>\n",
       "      <td>4</td>\n",
       "      <td>2</td>\n",
       "      <td>347077</td>\n",
       "      <td>31.3875</td>\n",
       "      <td>NaN</td>\n",
       "      <td>S</td>\n",
       "      <td>6</td>\n",
       "    </tr>\n",
       "    <tr>\n",
       "      <th>261</th>\n",
       "      <td>262</td>\n",
       "      <td>1</td>\n",
       "      <td>3</td>\n",
       "      <td>Asplund, Master. Edvin Rojj Felix</td>\n",
       "      <td>male</td>\n",
       "      <td>3.0</td>\n",
       "      <td>4</td>\n",
       "      <td>2</td>\n",
       "      <td>347077</td>\n",
       "      <td>31.3875</td>\n",
       "      <td>NaN</td>\n",
       "      <td>S</td>\n",
       "      <td>6</td>\n",
       "    </tr>\n",
       "  </tbody>\n",
       "</table>\n",
       "</div>"
      ],
      "text/plain": [
       "     PassengerId  Survived  Pclass  \\\n",
       "25            26         1       3   \n",
       "68            69         1       3   \n",
       "233          234         1       3   \n",
       "261          262         1       3   \n",
       "\n",
       "                                                  Name     Sex   Age  SibSp  \\\n",
       "25   Asplund, Mrs. Carl Oscar (Selma Augusta Emilia...  female  38.0      1   \n",
       "68                     Andersson, Miss. Erna Alexandra  female  17.0      4   \n",
       "233                     Asplund, Miss. Lillian Gertrud  female   5.0      4   \n",
       "261                  Asplund, Master. Edvin Rojj Felix    male   3.0      4   \n",
       "\n",
       "     Parch   Ticket     Fare Cabin Embarked  family  \n",
       "25       5   347077  31.3875   NaN        S       6  \n",
       "68       2  3101281   7.9250   NaN        S       6  \n",
       "233      2   347077  31.3875   NaN        S       6  \n",
       "261      2   347077  31.3875   NaN        S       6  "
      ]
     },
     "execution_count": 30,
     "metadata": {},
     "output_type": "execute_result"
    }
   ],
   "source": [
    "#观察家庭规模为6（总规模为7）且存活的家庭特征\n",
    "df.query('family == 6').query('Survived == 1')"
   ]
  },
  {
   "cell_type": "markdown",
   "id": "658c5bdb",
   "metadata": {},
   "source": [
    "### 上网查询，Asplund为某姓氏\n",
    "### 这四个人中，第1，3，4的姓氏相同，票价和票号相同，登船港口相同，应该是一同上船的\n",
    "### 并且其中有17岁青少年和3、5岁幼儿，会得到优先救援，因此使得family==6的家庭的存活率变高了"
   ]
  },
  {
   "cell_type": "code",
   "execution_count": 31,
   "id": "f442ad2d",
   "metadata": {},
   "outputs": [
    {
     "data": {
      "image/png": "[encoded data removed]",
      "text/plain": [
       "<Figure size 1080x576 with 1 Axes>"
      ]
     },
     "metadata": {},
     "output_type": "display_data"
    }
   ],
   "source": [
    "#fare按船舱等级的票价分析\n",
    "df_first = df.query('Pclass == 1')\n",
    "plt.figure(figsize=(15,8))\n",
    "df_first.query('Survived == 1').query('200 > Fare ').Fare.plot(kind='hist',color='red',bins=150,label='幸存')\n",
    "df_first.query('Survived == 0').query('200 > Fare ').Fare.plot(kind='hist',color='blue',alpha=0.5,bins=150,label='遇难')\n",
    "plt.title('票价与生存情况(一等舱)')\n",
    "plt.xlabel('Fare(票价)')\n",
    "plt.legend()\n",
    "plt.ylabel('人数');"
   ]
  },
  {
   "cell_type": "code",
   "execution_count": 32,
   "id": "602d1a50",
   "metadata": {},
   "outputs": [
    {
     "data": {
      "image/png": "[encoded data removed]",
      "text/plain": [
       "<Figure size 1080x576 with 1 Axes>"
      ]
     },
     "metadata": {},
     "output_type": "display_data"
    }
   ],
   "source": [
    "df_two = df.query('Pclass == 2')\n",
    "plt.figure(figsize=(15,8))\n",
    "df_two.query('Survived == 1').query('200 > Fare ').Fare.plot(kind='hist',color='red',bins=150,label='幸存')\n",
    "df_two.query('Survived == 0').query('200 > Fare ').Fare.plot(kind='hist',color='blue',alpha=0.5,bins=150,label='遇难')\n",
    "plt.title('票价与生存情况(二等舱)')\n",
    "plt.xlabel('Fare(票价)')\n",
    "plt.legend()\n",
    "plt.ylabel('人数');"
   ]
  },
  {
   "cell_type": "code",
   "execution_count": 33,
   "id": "6ee82153",
   "metadata": {},
   "outputs": [
    {
     "data": {
      "image/png": "[encoded data removed]",
      "text/plain": [
       "<Figure size 1080x576 with 1 Axes>"
      ]
     },
     "metadata": {},
     "output_type": "display_data"
    }
   ],
   "source": [
    "df_three = df.query('Pclass == 3')\n",
    "plt.figure(figsize=(15,8))\n",
    "df_three.query('Survived == 1').query('200 > Fare ').Fare.plot(kind='hist',color='red',bins=150,label='幸存')\n",
    "df_three.query('Survived == 0').query('200 > Fare ').Fare.plot(kind='hist',color='blue',alpha=0.5,bins=150,label='遇难')\n",
    "plt.title('票价与生存情况(三等舱)')\n",
    "plt.xlabel('Fare(票价)')\n",
    "plt.legend()\n",
    "plt.ylabel('人数');"
   ]
  },
  {
   "cell_type": "markdown",
   "id": "ede0c411",
   "metadata": {},
   "source": [
    "### 同等船舱中也会有不同票价\n",
    "### 直观看，船舱等级越低，红色的柱形越少，即存活率越低\n"
   ]
  },
  {
   "cell_type": "code",
   "execution_count": 39,
   "id": "a575ad47",
   "metadata": {},
   "outputs": [
    {
     "data": {
      "image/png": "[encoded data removed]",
      "text/plain": [
       "<Figure size 576x432 with 1 Axes>"
      ]
     },
     "metadata": {},
     "output_type": "display_data"
    }
   ],
   "source": [
    "#info中cabin存在大量缺失值\n",
    "#根据是否缺失划分为有房间号和无房间号\n",
    "Survived_yes = df_original[~df_original.Cabin.isnull()].query('Survived == 1').shape[0]\n",
    "died_yes = df_original[~df_original.Cabin.isnull()].query('Survived == 0').shape[0]\n",
    "Survived_no = df_original[df_original.Cabin.isnull()].query('Survived == 1').shape[0]\n",
    "died_no = df_original[df_original.Cabin.isnull()].query('Survived == 0').shape[0]\n",
    "plt.figure(figsize=(8,6))\n",
    "plt.bar('有房间号',Survived_yes,label = 'Survived',color = 'red',bottom = died_yes)\n",
    "plt.bar('有房间号',died_yes,label = 'died',color = 'blue')\n",
    "plt.bar('无房间号',died_no,color = 'blue',bottom = Survived_no)\n",
    "plt.bar('无房间号',Survived_no,color = 'red')\n",
    "plt.legend();"
   ]
  },
  {
   "cell_type": "markdown",
   "id": "dab2036d",
   "metadata": {},
   "source": [
    "### 从存活率上看有房间号的乘客明显存活率更高\n",
    "### 实际原因猜测可能是房间号本来就没有全部记录，存活下来的乘客大多记得自己的房间号，而死去的乘客有房间号的记录的较少\n",
    "### 即使因果相反，但可以以此作为判断依据"
   ]
  },
  {
   "cell_type": "code",
   "execution_count": 41,
   "id": "16d372d1",
   "metadata": {},
   "outputs": [
    {
     "data": {
      "image/png": "[encoded data removed]",
      "text/plain": [
       "<Figure size 576x432 with 1 Axes>"
      ]
     },
     "metadata": {},
     "output_type": "display_data"
    }
   ],
   "source": [
    "#embaked登船港口分析\n",
    "#从info看仅有两条缺失，暂时不看\n",
    "S_died = df_original.query('Embarked == \"S\"').query('Survived == 0').shape[0]\n",
    "S_Survived = df_original.query('Embarked == \"S\"').query('Survived == 1').shape[0]\n",
    "C_died = df_original.query('Embarked == \"C\"').query('Survived == 0').shape[0]\n",
    "C_Survived = df_original.query('Embarked == \"C\"').query('Survived == 1').shape[0]\n",
    "Q_died = df_original.query('Embarked == \"Q\"').query('Survived == 0').shape[0]\n",
    "Q_Survived = df_original.query('Embarked == \"Q\"').query('Survived == 1').shape[0]\n",
    "plt.figure(figsize=(8,6))\n",
    "plt.bar('S',S_died,label = 'died',color = 'blue',bottom = S_Survived)\n",
    "plt.bar('S',S_Survived,label = 'Survived',color = 'red')\n",
    "plt.bar('C',C_Survived,color = 'red',bottom = C_died)\n",
    "plt.bar('C',C_died,color = 'blue')\n",
    "plt.bar('Q',Q_died,color = 'blue',bottom = Q_Survived)\n",
    "plt.bar('Q',Q_Survived,color = 'red')\n",
    "plt.legend();"
   ]
  },
  {
   "cell_type": "markdown",
   "id": "4d32ac45",
   "metadata": {},
   "source": [
    "### 比例上港口C和港口Q差别不大\n",
    "### 但S港口上船的人死亡率更高，猜测可能是S港口上船的人中三等舱占比较大，特征之间存在相关性"
   ]
  },
  {
   "cell_type": "code",
   "execution_count": 42,
   "id": "c655916b",
   "metadata": {},
   "outputs": [
    {
     "data": {
      "image/png": "[encoded data removed]",
      "text/plain": [
       "<Figure size 576x432 with 1 Axes>"
      ]
     },
     "metadata": {},
     "output_type": "display_data"
    }
   ],
   "source": [
    "#看S港口上船的人中各船舱占比\n",
    "S_embarked = df_original.query('Embarked == \"S\"').shape[0]\n",
    "S_embarked_first = df_original.query('Embarked == \"S\"').query('Pclass == 1').shape[0]\n",
    "S_embarked_second = df_original.query('Embarked == \"S\"').query('Pclass == 2').shape[0]\n",
    "S_embarked_third = df_original.query('Embarked == \"S\"').query('Pclass == 3').shape[0]\n",
    "plt.figure(figsize=(8,6))\n",
    "plt.bar('头等舱',S_embarked_first,label = '头等舱',color = 'blue')\n",
    "plt.bar('二等舱',S_embarked_second,label = '二等舱',color = 'red')\n",
    "plt.bar('三等舱',S_embarked_second,label = '三等舱',color = 'green')\n",
    "\n",
    "plt.legend();"
   ]
  },
  {
   "cell_type": "markdown",
   "id": "3a8e82a6",
   "metadata": {},
   "source": [
    "### 对比C港口\n"
   ]
  },
  {
   "cell_type": "code",
   "execution_count": 43,
   "id": "8739fc58",
   "metadata": {},
   "outputs": [
    {
     "data": {
      "image/png": "[encoded data removed]",
      "text/plain": [
       "<Figure size 576x432 with 1 Axes>"
      ]
     },
     "metadata": {},
     "output_type": "display_data"
    }
   ],
   "source": [
    "C_embarked = df_original.query('Embarked == \"C\"').shape[0]\n",
    "C_embarked_first = df_original.query('Embarked == \"C\"').query('Pclass == 1').shape[0]\n",
    "C_embarked_second = df_original.query('Embarked == \"C\"').query('Pclass == 2').shape[0]\n",
    "C_embarked_third = df_original.query('Embarked == \"C\"').query('Pclass == 3').shape[0]\n",
    "plt.figure(figsize=(8,6))\n",
    "plt.bar('头等舱',C_embarked_first,label = '头等舱',color = 'blue')\n",
    "plt.bar('二等舱',C_embarked_second,label = '二等舱',color = 'red')\n",
    "plt.bar('三等舱',C_embarked_second,label = '三等舱',color = 'green')\n",
    "\n",
    "plt.legend();"
   ]
  },
  {
   "cell_type": "markdown",
   "id": "c20639b5",
   "metadata": {},
   "source": [
    "### 对比Q港口"
   ]
  },
  {
   "cell_type": "code",
   "execution_count": 44,
   "id": "beb744fb",
   "metadata": {},
   "outputs": [
    {
     "data": {
      "image/png": "[encoded data removed]",
      "text/plain": [
       "<Figure size 576x432 with 1 Axes>"
      ]
     },
     "metadata": {},
     "output_type": "display_data"
    }
   ],
   "source": [
    "Q_embarked = df_original.query('Embarked == \"Q\"').shape[0]\n",
    "Q_embarked_first = df_original.query('Embarked == \"Q\"').query('Pclass == 1').shape[0]\n",
    "Q_embarked_second = df_original.query('Embarked == \"Q\"').query('Pclass == 2').shape[0]\n",
    "Q_embarked_third = df_original.query('Embarked == \"Q\"').query('Pclass == 3').shape[0]\n",
    "plt.figure(figsize=(8,6))\n",
    "plt.bar('头等舱',C_embarked_first,label = '头等舱',color = 'blue')\n",
    "plt.bar('二等舱',C_embarked_second,label = '二等舱',color = 'red')\n",
    "plt.bar('三等舱',C_embarked_second,label = '三等舱',color = 'green')\n",
    "\n",
    "plt.legend();"
   ]
  },
  {
   "cell_type": "markdown",
   "id": "e7beef42",
   "metadata": {},
   "source": [
    "### 很明显的，S港口上船的多为二等舱和三等舱的乘客，影响到了最终的死亡率。"
   ]
  },
  {
   "cell_type": "markdown",
   "id": "5f509844",
   "metadata": {},
   "source": [
    "# "
   ]
  },
  {
   "cell_type": "markdown",
   "id": "36955d69",
   "metadata": {},
   "source": [
    "# 数据处理"
   ]
  },
  {
   "cell_type": "code",
   "execution_count": 45,
   "id": "c8ee01e9",
   "metadata": {},
   "outputs": [],
   "source": [
    "#1.缺失值填充Age,Cabin,Embarked\n",
    "#2.特征缩放Fare\n",
    "#3.离散化部分线性feature:Age,Fare,name_len\n",
    "#4.虚拟化部分category feature：Pclass ,Sex,Embarked\n",
    "#5.其他特征：family,姓名中的特殊称呼\n",
    "#6.对取值特别多的分类变量进行因子化：特殊称呼，cabin"
   ]
  },
  {
   "cell_type": "code",
   "execution_count": 6,
   "id": "4d67af37",
   "metadata": {},
   "outputs": [],
   "source": [
    "#首先标准化fare\n",
    "import sklearn.preprocessing as preprocessing\n",
    "scaler = preprocessing.StandardScaler()\n",
    "# 拟合并转化\n",
    "fare_scaler = scaler.fit(df.Fare.values.reshape(-1,1))\n",
    "df['scaler_of_fare'] = fare_scaler.fit_transform(df.Fare.values.reshape(-1,1))\n"
   ]
  },
  {
   "cell_type": "code",
   "execution_count": 7,
   "id": "2c018f59",
   "metadata": {},
   "outputs": [],
   "source": [
    "#使用乘客个人相关的信息进行预测年龄\n",
    "#不同方法进行尝试\n",
    "from sklearn.ensemble import RandomForestRegressor\n",
    "from sklearn.ensemble import GradientBoostingRegressor\n",
    "from sklearn.ensemble import ExtraTreesRegressor\n",
    "from sklearn.ensemble import AdaBoostRegressor\n",
    "from sklearn.ensemble import BaggingRegressor"
   ]
  },
  {
   "cell_type": "code",
   "execution_count": 8,
   "id": "e790c714",
   "metadata": {},
   "outputs": [],
   "source": [
    "age_df = df[['Age','Pclass','SibSp','Parch','scaler_of_fare']]\n",
    "#age_df = df[['Age','Pclass',‘family’,'scaler_of_fare']]\n",
    "known_age = age_df[age_df.Age.notnull()].values\n",
    "unknown_age = age_df[age_df.Age.isnull()].values\n",
    "y = known_age[:,0]\n",
    "x = known_age[:,1:]\n",
    "# 创建分类器进行拟合、预测、填充\n",
    "rfr = RandomForestRegressor(random_state=0,n_estimators=2000,n_jobs=-1)\n",
    "rfr.fit(x,y)\n",
    "predictedAges = rfr.predict(unknown_age[:,1::])\n",
    "df.loc[age_df.Age.isnull(),'Age'] = predictedAges"
   ]
  },
  {
   "cell_type": "code",
   "execution_count": 9,
   "id": "98e2e0f7",
   "metadata": {},
   "outputs": [
    {
     "data": {
      "text/plain": [
       "array([False])"
      ]
     },
     "execution_count": 9,
     "metadata": {},
     "output_type": "execute_result"
    }
   ],
   "source": [
    "#全部填充完成\n",
    "df.Age.isnull().unique()"
   ]
  },
  {
   "cell_type": "code",
   "execution_count": 10,
   "id": "14e73d4d",
   "metadata": {},
   "outputs": [],
   "source": [
    "#填充缺失船舱号\n",
    "df.Cabin[df.Cabin.isnull()] = 'Z'"
   ]
  },
  {
   "cell_type": "code",
   "execution_count": 11,
   "id": "97e06513",
   "metadata": {},
   "outputs": [],
   "source": [
    "#填充登船港口，根据之前的分析，Q和C港口的一等舱乘客更高，存活率也更高，因此对存活乘客，填充为Q和C都行\n",
    "df[df.Embarked.isnull()]\n",
    "df.Embarked[df.Embarked.isnull()] = 'Q'"
   ]
  },
  {
   "cell_type": "code",
   "execution_count": 12,
   "id": "b16205e2",
   "metadata": {},
   "outputs": [],
   "source": [
    "#Age分桶,手动效果更好\n",
    "cut_age = [0,7,11,16,36,38,63,78,100] \n",
    "df[['age_0_7','age_7_11','age_11_16','age_16_36','age_36_38','age_38_63','age_63_78','age_78_100']] = pd.get_dummies(pd.cut(df_original.Age,cut_age))\n",
    "#df[['age_0_7','age_7_11','age_11_16','age_16_36','age_36_38','age_38_63','age_63_78','age_78_100']] = pd.get_dummies(pd.qcut(df['Age'],8))"
   ]
  },
  {
   "cell_type": "code",
   "execution_count": 13,
   "id": "2e1bcf3e",
   "metadata": {},
   "outputs": [],
   "source": [
    "#Fare划分，自动效果更好，qcut尽量按每组样本数量相同进行分桶\n",
    "#cut_fare = [] #对票价分桶\n",
    "#df[['fare_0_7','fare_7_11','fare_11_16','fare_16_36','fare_36_38']] = pd.get_dummies(pd.cut(df_original.Age,cut_age))\n",
    "df[['fare_0_7','fare_7_10','fare_10_21','fare_21_39','fare_39_512']] = pd.get_dummies(pd.qcut(df['Fare'],5))\n"
   ]
  },
  {
   "cell_type": "code",
   "execution_count": 14,
   "id": "ae884811",
   "metadata": {},
   "outputs": [],
   "source": [
    "#新特征：姓名长度\n",
    "#首先生成一列姓名长度的特征\n",
    "df['name_len'] = df.Name.apply(len)\n",
    "#cut_name_len = []\n",
    "#同样qcut自动分桶\n",
    "df[['name_12_20','name_20_25','name_25_30','name_30_82']] = pd.get_dummies(pd.qcut(df.name_len,4))"
   ]
  },
  {
   "cell_type": "code",
   "execution_count": 15,
   "id": "3f7ae8f2",
   "metadata": {},
   "outputs": [],
   "source": [
    "#Pclass dummy\n",
    "df[['Pclass_first','Pclass_second','Pclass_third']] = pd.get_dummies(df.Pclass)\n",
    "#Sex dummy \n",
    "df[['sex_female','sex_male']] = pd.get_dummies(df.Sex)\n",
    "#Embarked dummy\n",
    "df[['Embarked_c','Embarked_q','Embarked_s']] = pd.get_dummies(df.Embarked)\n"
   ]
  },
  {
   "cell_type": "code",
   "execution_count": 16,
   "id": "dd9c20aa",
   "metadata": {},
   "outputs": [],
   "source": [
    "#特殊称呼\n",
    "df[['fame','last_name']] = df.Name.str.split(',',expand=True)\n",
    "df[['call','last_name_2','nothing']] = df.last_name.str.split('.',expand=True)"
   ]
  },
  {
   "cell_type": "code",
   "execution_count": 17,
   "id": "08b27046",
   "metadata": {},
   "outputs": [],
   "source": [
    "#df['call'].unique()\n",
    "#call中包含Mr,Mrs,Miss,Major等等特殊称呼\n",
    "#对其因子化\n",
    "df['call_factorize'] = pd.factorize(df.call)[0]"
   ]
  },
  {
   "cell_type": "code",
   "execution_count": 18,
   "id": "36461641",
   "metadata": {},
   "outputs": [],
   "source": [
    "#提取cabin的首字母，因子化\n",
    "import re #正则模块\n",
    "df['cabin_first'] = df['Cabin'].map(lambda x:re.compile(\"([a-zA-Z]+)\").search(x).group())\n",
    "df['cabin_first'] = pd.factorize(df['cabin_first'])[0]"
   ]
  },
  {
   "cell_type": "markdown",
   "id": "62ecafa8",
   "metadata": {},
   "source": [
    "## 增加child_family_little_2变量\n",
    "## child_family_little_2代表family<=3且Age<=16的乘客\n",
    "## 根据之前的分析，16岁往下的青少年，其家庭规模family很大程度上和是否存活相关"
   ]
  },
  {
   "cell_type": "code",
   "execution_count": 19,
   "id": "391c6486",
   "metadata": {},
   "outputs": [],
   "source": [
    "#child_family_little_2\n",
    "df['child_family_little_2'] = 0\n",
    "df.loc[df.query('0<=Age<16').query('family <=3 ').index,'child_family_little_2'] = 1"
   ]
  },
  {
   "cell_type": "markdown",
   "id": "98af2535",
   "metadata": {},
   "source": [
    "## 增加maleabove50:年龄超过50岁的男性\n",
    "## 根据之前的分析，50岁往上的男性，基本都没有存活"
   ]
  },
  {
   "cell_type": "code",
   "execution_count": 20,
   "id": "9b8a3d6d",
   "metadata": {},
   "outputs": [],
   "source": [
    "#maleabove50\n",
    "df['male_than_50'] = 0\n",
    "df.loc[df.query('Age >= 50').query('Sex == \"male\"').index,'male_than_50'] = 1"
   ]
  },
  {
   "cell_type": "code",
   "execution_count": 21,
   "id": "de25c6bf",
   "metadata": {},
   "outputs": [
    {
     "data": {
      "text/html": [
       "<div>\n",
       "<style scoped>\n",
       "    .dataframe tbody tr th:only-of-type {\n",
       "        vertical-align: middle;\n",
       "    }\n",
       "\n",
       "    .dataframe tbody tr th {\n",
       "        vertical-align: top;\n",
       "    }\n",
       "\n",
       "    .dataframe thead th {\n",
       "        text-align: right;\n",
       "    }\n",
       "</style>\n",
       "<table border=\"1\" class=\"dataframe\">\n",
       "  <thead>\n",
       "    <tr style=\"text-align: right;\">\n",
       "      <th></th>\n",
       "      <th>0</th>\n",
       "      <th>1</th>\n",
       "    </tr>\n",
       "  </thead>\n",
       "  <tbody>\n",
       "    <tr>\n",
       "      <th>0</th>\n",
       "      <td>Braund</td>\n",
       "      <td>Mr. Owen Harris</td>\n",
       "    </tr>\n",
       "    <tr>\n",
       "      <th>1</th>\n",
       "      <td>Cumings</td>\n",
       "      <td>Mrs. John Bradley (Florence Briggs Thayer)</td>\n",
       "    </tr>\n",
       "    <tr>\n",
       "      <th>2</th>\n",
       "      <td>Heikkinen</td>\n",
       "      <td>Miss. Laina</td>\n",
       "    </tr>\n",
       "    <tr>\n",
       "      <th>3</th>\n",
       "      <td>Futrelle</td>\n",
       "      <td>Mrs. Jacques Heath (Lily May Peel)</td>\n",
       "    </tr>\n",
       "    <tr>\n",
       "      <th>4</th>\n",
       "      <td>Allen</td>\n",
       "      <td>Mr. William Henry</td>\n",
       "    </tr>\n",
       "    <tr>\n",
       "      <th>...</th>\n",
       "      <td>...</td>\n",
       "      <td>...</td>\n",
       "    </tr>\n",
       "    <tr>\n",
       "      <th>886</th>\n",
       "      <td>Montvila</td>\n",
       "      <td>Rev. Juozas</td>\n",
       "    </tr>\n",
       "    <tr>\n",
       "      <th>887</th>\n",
       "      <td>Graham</td>\n",
       "      <td>Miss. Margaret Edith</td>\n",
       "    </tr>\n",
       "    <tr>\n",
       "      <th>888</th>\n",
       "      <td>Johnston</td>\n",
       "      <td>Miss. Catherine Helen \"Carrie\"</td>\n",
       "    </tr>\n",
       "    <tr>\n",
       "      <th>889</th>\n",
       "      <td>Behr</td>\n",
       "      <td>Mr. Karl Howell</td>\n",
       "    </tr>\n",
       "    <tr>\n",
       "      <th>890</th>\n",
       "      <td>Dooley</td>\n",
       "      <td>Mr. Patrick</td>\n",
       "    </tr>\n",
       "  </tbody>\n",
       "</table>\n",
       "<p>891 rows × 2 columns</p>\n",
       "</div>"
      ],
      "text/plain": [
       "             0                                            1\n",
       "0       Braund                              Mr. Owen Harris\n",
       "1      Cumings   Mrs. John Bradley (Florence Briggs Thayer)\n",
       "2    Heikkinen                                  Miss. Laina\n",
       "3     Futrelle           Mrs. Jacques Heath (Lily May Peel)\n",
       "4        Allen                            Mr. William Henry\n",
       "..         ...                                          ...\n",
       "886   Montvila                                  Rev. Juozas\n",
       "887     Graham                         Miss. Margaret Edith\n",
       "888   Johnston               Miss. Catherine Helen \"Carrie\"\n",
       "889       Behr                              Mr. Karl Howell\n",
       "890     Dooley                                  Mr. Patrick\n",
       "\n",
       "[891 rows x 2 columns]"
      ]
     },
     "execution_count": 21,
     "metadata": {},
     "output_type": "execute_result"
    }
   ],
   "source": [
    "df.Name.str.split(',',expand=True)"
   ]
  },
  {
   "cell_type": "markdown",
   "id": "627c5049",
   "metadata": {},
   "source": [
    "## 增加is_group：是否有同伴一同游玩\n",
    "## 部分乘客Ticket相同，票价也相同，应该是一起来的"
   ]
  },
  {
   "cell_type": "code",
   "execution_count": 22,
   "id": "d2119fb8",
   "metadata": {},
   "outputs": [],
   "source": [
    "df[['Baptismal_name','new_name']] = df.Name.str.split(',',expand=True)\n",
    "#Ticket相同，且教名相同\n",
    "list_small_ticket = list(df.groupby(['Ticket','Baptismal_name'],as_index=False).count().query('Pclass==1').Baptismal_name)\n",
    "chang_Baptismal_name = lambda x:0 if x in list_small_ticket else 1\n",
    "df['is_group'] = df.Baptismal_name.apply(chang_Baptismal_name)"
   ]
  },
  {
   "cell_type": "markdown",
   "id": "5698ffa1",
   "metadata": {},
   "source": [
    "# 特征重要性评估"
   ]
  },
  {
   "cell_type": "markdown",
   "id": "41b777b5",
   "metadata": {},
   "source": [
    "## 特征性价比"
   ]
  },
  {
   "cell_type": "code",
   "execution_count": 23,
   "id": "582b8d52",
   "metadata": {},
   "outputs": [],
   "source": [
    "train= df.drop(columns = ['PassengerId'])\n",
    "train_feature = train.filter(regex='Survived|Pclass_.*|sex_.*|Embarked_.*|age_.*|scaler_of_fare|family|call_factorize|Cabin_group|Ticket_group|name_.*|cabin_first|is_group|age_is_null|child_family_little_2|male_than_50')\n",
    "train_feature.drop(columns=['last_name_2','name_len'],inplace=True)"
   ]
  },
  {
   "cell_type": "code",
   "execution_count": 24,
   "id": "9c8b4d4e",
   "metadata": {},
   "outputs": [
    {
     "name": "stdout",
     "output_type": "stream",
     "text": [
      " 1) Pclass                         0.208346\n",
      " 2) fare_7_10                      0.120575\n",
      " 3) age_38_63                      0.093301\n",
      " 4) age_36_38                      0.092873\n",
      " 5) Survived                       0.068053\n",
      " 6) fare_10_21                     0.051934\n",
      " 7) age_16_36                      0.045878\n",
      " 8) SibSp                          0.032603\n",
      " 9) age_0_7                        0.032459\n",
      "10) fare_21_39                     0.031725\n",
      "11) age_7_11                       0.023126\n",
      "12) fare_0_7                       0.020496\n",
      "13) Ticket                         0.020454\n",
      "14) name_len                       0.019621\n",
      "15) scaler_of_fare                 0.018831\n",
      "16) Embarked                       0.017678\n",
      "17) age_11_16                      0.016880\n",
      "18) family                         0.016554\n",
      "19) age_63_78                      0.015901\n",
      "20) Name                           0.011146\n",
      "21) age_78_100                     0.010774\n",
      "22) fare_39_512                    0.010519\n",
      "23) Parch                          0.008115\n",
      "24) Age                            0.004991\n",
      "25) Sex                            0.003464\n",
      "26) Fare                           0.002133\n",
      "27) Cabin                          0.001572\n"
     ]
    }
   ],
   "source": [
    "#利用随机森林进行重要性评估，指标为Gini系数\n",
    "from sklearn.model_selection import train_test_split\n",
    "from sklearn.ensemble import RandomForestClassifier\n",
    "x, y = train_feature.iloc[:, 1:].values, train_feature.iloc[:, 0].values\n",
    "x_train, x_test, y_train, y_test = train_test_split(x, y, test_size = 0.3, random_state = 0)\n",
    "feat_labels = df.columns[1:]\n",
    "forest = RandomForestClassifier(n_estimators=10000, random_state=0, n_jobs=-1)\n",
    "forest.fit(x_train, y_train)\n",
    "importances = forest.feature_importances_\n",
    "indices = np.argsort(importances)[::-1]\n",
    "for f in range(x_train.shape[1]):\n",
    "    print(\"%2d) %-*s %f\" % (f + 1, 30, feat_labels[indices[f]], importances[indices[f]]))"
   ]
  },
  {
   "cell_type": "code",
   "execution_count": 25,
   "id": "80edf13d",
   "metadata": {},
   "outputs": [
    {
     "data": {
      "text/html": [
       "<div>\n",
       "<style scoped>\n",
       "    .dataframe tbody tr th:only-of-type {\n",
       "        vertical-align: middle;\n",
       "    }\n",
       "\n",
       "    .dataframe tbody tr th {\n",
       "        vertical-align: top;\n",
       "    }\n",
       "\n",
       "    .dataframe thead th {\n",
       "        text-align: right;\n",
       "    }\n",
       "</style>\n",
       "<table border=\"1\" class=\"dataframe\">\n",
       "  <thead>\n",
       "    <tr style=\"text-align: right;\">\n",
       "      <th></th>\n",
       "      <th>Survived</th>\n",
       "      <th>family</th>\n",
       "      <th>scaler_of_fare</th>\n",
       "      <th>age_0_7</th>\n",
       "      <th>age_7_11</th>\n",
       "      <th>age_11_16</th>\n",
       "      <th>age_16_36</th>\n",
       "      <th>age_36_38</th>\n",
       "      <th>age_38_63</th>\n",
       "      <th>age_63_78</th>\n",
       "      <th>age_78_100</th>\n",
       "      <th>name_12_20</th>\n",
       "      <th>name_20_25</th>\n",
       "      <th>name_25_30</th>\n",
       "      <th>name_30_82</th>\n",
       "      <th>Pclass_first</th>\n",
       "      <th>Pclass_second</th>\n",
       "      <th>Pclass_third</th>\n",
       "      <th>sex_female</th>\n",
       "      <th>sex_male</th>\n",
       "      <th>Embarked_c</th>\n",
       "      <th>Embarked_q</th>\n",
       "      <th>Embarked_s</th>\n",
       "      <th>call_factorize</th>\n",
       "      <th>cabin_first</th>\n",
       "      <th>child_family_little_2</th>\n",
       "      <th>male_than_50</th>\n",
       "      <th>is_group</th>\n",
       "    </tr>\n",
       "  </thead>\n",
       "  <tbody>\n",
       "    <tr>\n",
       "      <th>0</th>\n",
       "      <td>0</td>\n",
       "      <td>1</td>\n",
       "      <td>-0.502445</td>\n",
       "      <td>0</td>\n",
       "      <td>0</td>\n",
       "      <td>0</td>\n",
       "      <td>1</td>\n",
       "      <td>0</td>\n",
       "      <td>0</td>\n",
       "      <td>0</td>\n",
       "      <td>0</td>\n",
       "      <td>0</td>\n",
       "      <td>1</td>\n",
       "      <td>0</td>\n",
       "      <td>0</td>\n",
       "      <td>0</td>\n",
       "      <td>0</td>\n",
       "      <td>1</td>\n",
       "      <td>0</td>\n",
       "      <td>1</td>\n",
       "      <td>0</td>\n",
       "      <td>0</td>\n",
       "      <td>1</td>\n",
       "      <td>0</td>\n",
       "      <td>0</td>\n",
       "      <td>0</td>\n",
       "      <td>0</td>\n",
       "      <td>0</td>\n",
       "    </tr>\n",
       "    <tr>\n",
       "      <th>1</th>\n",
       "      <td>1</td>\n",
       "      <td>1</td>\n",
       "      <td>0.786845</td>\n",
       "      <td>0</td>\n",
       "      <td>0</td>\n",
       "      <td>0</td>\n",
       "      <td>0</td>\n",
       "      <td>1</td>\n",
       "      <td>0</td>\n",
       "      <td>0</td>\n",
       "      <td>0</td>\n",
       "      <td>0</td>\n",
       "      <td>0</td>\n",
       "      <td>0</td>\n",
       "      <td>1</td>\n",
       "      <td>1</td>\n",
       "      <td>0</td>\n",
       "      <td>0</td>\n",
       "      <td>1</td>\n",
       "      <td>0</td>\n",
       "      <td>1</td>\n",
       "      <td>0</td>\n",
       "      <td>0</td>\n",
       "      <td>1</td>\n",
       "      <td>1</td>\n",
       "      <td>0</td>\n",
       "      <td>0</td>\n",
       "      <td>0</td>\n",
       "    </tr>\n",
       "    <tr>\n",
       "      <th>2</th>\n",
       "      <td>1</td>\n",
       "      <td>0</td>\n",
       "      <td>-0.488854</td>\n",
       "      <td>0</td>\n",
       "      <td>0</td>\n",
       "      <td>0</td>\n",
       "      <td>1</td>\n",
       "      <td>0</td>\n",
       "      <td>0</td>\n",
       "      <td>0</td>\n",
       "      <td>0</td>\n",
       "      <td>0</td>\n",
       "      <td>1</td>\n",
       "      <td>0</td>\n",
       "      <td>0</td>\n",
       "      <td>0</td>\n",
       "      <td>0</td>\n",
       "      <td>1</td>\n",
       "      <td>1</td>\n",
       "      <td>0</td>\n",
       "      <td>0</td>\n",
       "      <td>0</td>\n",
       "      <td>1</td>\n",
       "      <td>2</td>\n",
       "      <td>0</td>\n",
       "      <td>0</td>\n",
       "      <td>0</td>\n",
       "      <td>0</td>\n",
       "    </tr>\n",
       "    <tr>\n",
       "      <th>3</th>\n",
       "      <td>1</td>\n",
       "      <td>1</td>\n",
       "      <td>0.420730</td>\n",
       "      <td>0</td>\n",
       "      <td>0</td>\n",
       "      <td>0</td>\n",
       "      <td>1</td>\n",
       "      <td>0</td>\n",
       "      <td>0</td>\n",
       "      <td>0</td>\n",
       "      <td>0</td>\n",
       "      <td>0</td>\n",
       "      <td>0</td>\n",
       "      <td>0</td>\n",
       "      <td>1</td>\n",
       "      <td>1</td>\n",
       "      <td>0</td>\n",
       "      <td>0</td>\n",
       "      <td>1</td>\n",
       "      <td>0</td>\n",
       "      <td>0</td>\n",
       "      <td>0</td>\n",
       "      <td>1</td>\n",
       "      <td>1</td>\n",
       "      <td>1</td>\n",
       "      <td>0</td>\n",
       "      <td>0</td>\n",
       "      <td>1</td>\n",
       "    </tr>\n",
       "    <tr>\n",
       "      <th>4</th>\n",
       "      <td>0</td>\n",
       "      <td>0</td>\n",
       "      <td>-0.486337</td>\n",
       "      <td>0</td>\n",
       "      <td>0</td>\n",
       "      <td>0</td>\n",
       "      <td>1</td>\n",
       "      <td>0</td>\n",
       "      <td>0</td>\n",
       "      <td>0</td>\n",
       "      <td>0</td>\n",
       "      <td>0</td>\n",
       "      <td>1</td>\n",
       "      <td>0</td>\n",
       "      <td>0</td>\n",
       "      <td>0</td>\n",
       "      <td>0</td>\n",
       "      <td>1</td>\n",
       "      <td>0</td>\n",
       "      <td>1</td>\n",
       "      <td>0</td>\n",
       "      <td>0</td>\n",
       "      <td>1</td>\n",
       "      <td>0</td>\n",
       "      <td>0</td>\n",
       "      <td>0</td>\n",
       "      <td>0</td>\n",
       "      <td>0</td>\n",
       "    </tr>\n",
       "    <tr>\n",
       "      <th>...</th>\n",
       "      <td>...</td>\n",
       "      <td>...</td>\n",
       "      <td>...</td>\n",
       "      <td>...</td>\n",
       "      <td>...</td>\n",
       "      <td>...</td>\n",
       "      <td>...</td>\n",
       "      <td>...</td>\n",
       "      <td>...</td>\n",
       "      <td>...</td>\n",
       "      <td>...</td>\n",
       "      <td>...</td>\n",
       "      <td>...</td>\n",
       "      <td>...</td>\n",
       "      <td>...</td>\n",
       "      <td>...</td>\n",
       "      <td>...</td>\n",
       "      <td>...</td>\n",
       "      <td>...</td>\n",
       "      <td>...</td>\n",
       "      <td>...</td>\n",
       "      <td>...</td>\n",
       "      <td>...</td>\n",
       "      <td>...</td>\n",
       "      <td>...</td>\n",
       "      <td>...</td>\n",
       "      <td>...</td>\n",
       "      <td>...</td>\n",
       "    </tr>\n",
       "    <tr>\n",
       "      <th>886</th>\n",
       "      <td>0</td>\n",
       "      <td>0</td>\n",
       "      <td>-0.386671</td>\n",
       "      <td>0</td>\n",
       "      <td>0</td>\n",
       "      <td>0</td>\n",
       "      <td>1</td>\n",
       "      <td>0</td>\n",
       "      <td>0</td>\n",
       "      <td>0</td>\n",
       "      <td>0</td>\n",
       "      <td>0</td>\n",
       "      <td>1</td>\n",
       "      <td>0</td>\n",
       "      <td>0</td>\n",
       "      <td>0</td>\n",
       "      <td>1</td>\n",
       "      <td>0</td>\n",
       "      <td>0</td>\n",
       "      <td>1</td>\n",
       "      <td>0</td>\n",
       "      <td>0</td>\n",
       "      <td>1</td>\n",
       "      <td>5</td>\n",
       "      <td>0</td>\n",
       "      <td>0</td>\n",
       "      <td>0</td>\n",
       "      <td>0</td>\n",
       "    </tr>\n",
       "    <tr>\n",
       "      <th>887</th>\n",
       "      <td>1</td>\n",
       "      <td>0</td>\n",
       "      <td>-0.044381</td>\n",
       "      <td>0</td>\n",
       "      <td>0</td>\n",
       "      <td>0</td>\n",
       "      <td>1</td>\n",
       "      <td>0</td>\n",
       "      <td>0</td>\n",
       "      <td>0</td>\n",
       "      <td>0</td>\n",
       "      <td>0</td>\n",
       "      <td>0</td>\n",
       "      <td>1</td>\n",
       "      <td>0</td>\n",
       "      <td>1</td>\n",
       "      <td>0</td>\n",
       "      <td>0</td>\n",
       "      <td>1</td>\n",
       "      <td>0</td>\n",
       "      <td>0</td>\n",
       "      <td>0</td>\n",
       "      <td>1</td>\n",
       "      <td>2</td>\n",
       "      <td>6</td>\n",
       "      <td>0</td>\n",
       "      <td>0</td>\n",
       "      <td>0</td>\n",
       "    </tr>\n",
       "    <tr>\n",
       "      <th>888</th>\n",
       "      <td>0</td>\n",
       "      <td>3</td>\n",
       "      <td>-0.176263</td>\n",
       "      <td>0</td>\n",
       "      <td>0</td>\n",
       "      <td>0</td>\n",
       "      <td>0</td>\n",
       "      <td>0</td>\n",
       "      <td>0</td>\n",
       "      <td>0</td>\n",
       "      <td>0</td>\n",
       "      <td>0</td>\n",
       "      <td>0</td>\n",
       "      <td>0</td>\n",
       "      <td>1</td>\n",
       "      <td>0</td>\n",
       "      <td>0</td>\n",
       "      <td>1</td>\n",
       "      <td>1</td>\n",
       "      <td>0</td>\n",
       "      <td>0</td>\n",
       "      <td>0</td>\n",
       "      <td>1</td>\n",
       "      <td>2</td>\n",
       "      <td>0</td>\n",
       "      <td>0</td>\n",
       "      <td>0</td>\n",
       "      <td>1</td>\n",
       "    </tr>\n",
       "    <tr>\n",
       "      <th>889</th>\n",
       "      <td>1</td>\n",
       "      <td>0</td>\n",
       "      <td>-0.044381</td>\n",
       "      <td>0</td>\n",
       "      <td>0</td>\n",
       "      <td>0</td>\n",
       "      <td>1</td>\n",
       "      <td>0</td>\n",
       "      <td>0</td>\n",
       "      <td>0</td>\n",
       "      <td>0</td>\n",
       "      <td>0</td>\n",
       "      <td>1</td>\n",
       "      <td>0</td>\n",
       "      <td>0</td>\n",
       "      <td>1</td>\n",
       "      <td>0</td>\n",
       "      <td>0</td>\n",
       "      <td>0</td>\n",
       "      <td>1</td>\n",
       "      <td>1</td>\n",
       "      <td>0</td>\n",
       "      <td>0</td>\n",
       "      <td>0</td>\n",
       "      <td>1</td>\n",
       "      <td>0</td>\n",
       "      <td>0</td>\n",
       "      <td>0</td>\n",
       "    </tr>\n",
       "    <tr>\n",
       "      <th>890</th>\n",
       "      <td>0</td>\n",
       "      <td>0</td>\n",
       "      <td>-0.492378</td>\n",
       "      <td>0</td>\n",
       "      <td>0</td>\n",
       "      <td>0</td>\n",
       "      <td>1</td>\n",
       "      <td>0</td>\n",
       "      <td>0</td>\n",
       "      <td>0</td>\n",
       "      <td>0</td>\n",
       "      <td>1</td>\n",
       "      <td>0</td>\n",
       "      <td>0</td>\n",
       "      <td>0</td>\n",
       "      <td>0</td>\n",
       "      <td>0</td>\n",
       "      <td>1</td>\n",
       "      <td>0</td>\n",
       "      <td>1</td>\n",
       "      <td>0</td>\n",
       "      <td>1</td>\n",
       "      <td>0</td>\n",
       "      <td>0</td>\n",
       "      <td>0</td>\n",
       "      <td>0</td>\n",
       "      <td>0</td>\n",
       "      <td>0</td>\n",
       "    </tr>\n",
       "  </tbody>\n",
       "</table>\n",
       "<p>891 rows × 28 columns</p>\n",
       "</div>"
      ],
      "text/plain": [
       "     Survived  family  scaler_of_fare  age_0_7  age_7_11  age_11_16  \\\n",
       "0           0       1       -0.502445        0         0          0   \n",
       "1           1       1        0.786845        0         0          0   \n",
       "2           1       0       -0.488854        0         0          0   \n",
       "3           1       1        0.420730        0         0          0   \n",
       "4           0       0       -0.486337        0         0          0   \n",
       "..        ...     ...             ...      ...       ...        ...   \n",
       "886         0       0       -0.386671        0         0          0   \n",
       "887         1       0       -0.044381        0         0          0   \n",
       "888         0       3       -0.176263        0         0          0   \n",
       "889         1       0       -0.044381        0         0          0   \n",
       "890         0       0       -0.492378        0         0          0   \n",
       "\n",
       "     age_16_36  age_36_38  age_38_63  age_63_78  age_78_100  name_12_20  \\\n",
       "0            1          0          0          0           0           0   \n",
       "1            0          1          0          0           0           0   \n",
       "2            1          0          0          0           0           0   \n",
       "3            1          0          0          0           0           0   \n",
       "4            1          0          0          0           0           0   \n",
       "..         ...        ...        ...        ...         ...         ...   \n",
       "886          1          0          0          0           0           0   \n",
       "887          1          0          0          0           0           0   \n",
       "888          0          0          0          0           0           0   \n",
       "889          1          0          0          0           0           0   \n",
       "890          1          0          0          0           0           1   \n",
       "\n",
       "     name_20_25  name_25_30  name_30_82  Pclass_first  Pclass_second  \\\n",
       "0             1           0           0             0              0   \n",
       "1             0           0           1             1              0   \n",
       "2             1           0           0             0              0   \n",
       "3             0           0           1             1              0   \n",
       "4             1           0           0             0              0   \n",
       "..          ...         ...         ...           ...            ...   \n",
       "886           1           0           0             0              1   \n",
       "887           0           1           0             1              0   \n",
       "888           0           0           1             0              0   \n",
       "889           1           0           0             1              0   \n",
       "890           0           0           0             0              0   \n",
       "\n",
       "     Pclass_third  sex_female  sex_male  Embarked_c  Embarked_q  Embarked_s  \\\n",
       "0               1           0         1           0           0           1   \n",
       "1               0           1         0           1           0           0   \n",
       "2               1           1         0           0           0           1   \n",
       "3               0           1         0           0           0           1   \n",
       "4               1           0         1           0           0           1   \n",
       "..            ...         ...       ...         ...         ...         ...   \n",
       "886             0           0         1           0           0           1   \n",
       "887             0           1         0           0           0           1   \n",
       "888             1           1         0           0           0           1   \n",
       "889             0           0         1           1           0           0   \n",
       "890             1           0         1           0           1           0   \n",
       "\n",
       "     call_factorize  cabin_first  child_family_little_2  male_than_50  \\\n",
       "0                 0            0                      0             0   \n",
       "1                 1            1                      0             0   \n",
       "2                 2            0                      0             0   \n",
       "3                 1            1                      0             0   \n",
       "4                 0            0                      0             0   \n",
       "..              ...          ...                    ...           ...   \n",
       "886               5            0                      0             0   \n",
       "887               2            6                      0             0   \n",
       "888               2            0                      0             0   \n",
       "889               0            1                      0             0   \n",
       "890               0            0                      0             0   \n",
       "\n",
       "     is_group  \n",
       "0           0  \n",
       "1           0  \n",
       "2           0  \n",
       "3           1  \n",
       "4           0  \n",
       "..        ...  \n",
       "886         0  \n",
       "887         0  \n",
       "888         1  \n",
       "889         0  \n",
       "890         0  \n",
       "\n",
       "[891 rows x 28 columns]"
      ]
     },
     "execution_count": 25,
     "metadata": {},
     "output_type": "execute_result"
    }
   ],
   "source": [
    "#train_feature.drop(columns=['Parch','Age','Sex','Fare','Cabin'],inplace=True)\n",
    "train_feature"
   ]
  },
  {
   "cell_type": "code",
   "execution_count": 37,
   "id": "4ed91f96",
   "metadata": {},
   "outputs": [
    {
     "data": {
      "text/plain": [
       "<AxesSubplot:>"
      ]
     },
     "execution_count": 37,
     "metadata": {},
     "output_type": "execute_result"
    },
    {
     "data": {
      "image/png": "[encoded data removed]",
      "text/plain": [
       "<Figure size 1008x576 with 2 Axes>"
      ]
     },
     "metadata": {},
     "output_type": "display_data"
    }
   ],
   "source": [
    "#观察各特征之间相关性\n",
    "import seaborn as sn\n",
    "features = list(train_feature.columns[1:])\n",
    "plt.figure(figsize=(14,8))\n",
    "colormap = plt.cm.RdBu\n",
    "sn.heatmap(train_feature[features].corr(),linewidths=0.1,annot=True)"
   ]
  },
  {
   "cell_type": "markdown",
   "id": "e7bbdf44",
   "metadata": {},
   "source": [
    "### 尽量尝试删去特征，减少它们之间的强相关性"
   ]
  },
  {
   "cell_type": "markdown",
   "id": "512d31f2",
   "metadata": {},
   "source": [
    "# 交叉验证"
   ]
  },
  {
   "cell_type": "code",
   "execution_count": 30,
   "id": "5e7b73dc",
   "metadata": {},
   "outputs": [
    {
     "data": {
      "text/plain": [
       "array([0.84357542, 0.82022472, 0.79213483, 0.8258427 , 0.81460674])"
      ]
     },
     "execution_count": 30,
     "metadata": {},
     "output_type": "execute_result"
    }
   ],
   "source": [
    "# 交叉验证\n",
    "from sklearn import linear_model\n",
    "from sklearn.model_selection import cross_val_score\n",
    "from sklearn.linear_model import LogisticRegression\n",
    "train_feature_x = train_feature.values[:,1:]\n",
    "train_feature_y = train_feature.values[:,:1]\n",
    "#classifier = linear_model.LogisticRegression(penalty='l2',random_state=0)\n",
    "classifier = linear_model.LogisticRegression(penalty='l2',random_state=0)\n",
    "cross_val_score(classifier,train_feature_x,train_feature_y,cv=5)"
   ]
  },
  {
   "cell_type": "markdown",
   "id": "81d587dd",
   "metadata": {},
   "source": [
    "# 特征选取"
   ]
  },
  {
   "cell_type": "code",
   "execution_count": 41,
   "id": "ce4df03e",
   "metadata": {},
   "outputs": [
    {
     "name": "stdout",
     "output_type": "stream",
     "text": [
      "(27,)\n"
     ]
    }
   ],
   "source": [
    "from sklearn.ensemble import GradientBoostingClassifier\n",
    "gbdt = GradientBoostingClassifier(\n",
    "    init=None,\n",
    "    learning_rate=0.1,\n",
    "    loss='deviance',\n",
    "    max_depth=3,\n",
    "    max_features=None,\n",
    "    max_leaf_nodes=None,\n",
    "    min_samples_leaf=1,\n",
    "    min_samples_split=2,\n",
    "    min_weight_fraction_leaf=0.0,\n",
    "    n_estimators=100,\n",
    "    random_state=None,\n",
    "    subsample=1.0,\n",
    "    verbose=0,\n",
    "    warm_start=False)\n",
    "gbdt.fit(train_feature_x, train_feature_y)\n",
    "score = gbdt.feature_importances_\n",
    "print (gbdt.feature_importances_.shape)"
   ]
  },
  {
   "cell_type": "code",
   "execution_count": 42,
   "id": "41701a6f",
   "metadata": {},
   "outputs": [
    {
     "data": {
      "text/plain": [
       "array([5.07955213e-05, 3.76485570e-04, 7.24141117e-04, 9.19102850e-04,\n",
       "       1.54527469e-03, 2.64548790e-03, 2.83607596e-03, 3.17071860e-03,\n",
       "       3.27591485e-03, 3.41902534e-03, 4.72790193e-03, 4.89161384e-03,\n",
       "       5.58396228e-03, 6.35254925e-03, 6.47612297e-03, 6.64717371e-03,\n",
       "       9.51083727e-03, 1.05810564e-02, 1.43287763e-02, 4.17850159e-02,\n",
       "       4.20019780e-02, 5.38180336e-02, 5.60216363e-02, 8.26691817e-02,\n",
       "       1.06959981e-01, 1.45172758e-01, 3.83508400e-01])"
      ]
     },
     "execution_count": 42,
     "metadata": {},
     "output_type": "execute_result"
    }
   ],
   "source": [
    "score.sort()\n",
    "score"
   ]
  },
  {
   "cell_type": "code",
   "execution_count": 43,
   "id": "60e45969",
   "metadata": {},
   "outputs": [
    {
     "data": {
      "text/plain": [
       "[(5.0795521257175306e-05, 'family'),\n",
       " (0.0003764855700046745, 'scaler_of_fare'),\n",
       " (0.0007241411166682097, 'age_0_7'),\n",
       " (0.0009191028499293583, 'age_7_11'),\n",
       " (0.0015452746893463043, 'age_11_16'),\n",
       " (0.0026454878994762276, 'age_16_36'),\n",
       " (0.0028360759582102485, 'age_36_38'),\n",
       " (0.003170718603443436, 'age_38_63'),\n",
       " (0.003275914849828039, 'age_63_78'),\n",
       " (0.0034190253422005496, 'age_78_100'),\n",
       " (0.004727901929443297, 'name_12_20'),\n",
       " (0.004891613838417122, 'name_20_25'),\n",
       " (0.005583962280567709, 'name_25_30'),\n",
       " (0.0063525492527271715, 'name_30_82'),\n",
       " (0.006476122966274728, 'Pclass_first'),\n",
       " (0.006647173707472856, 'Pclass_second'),\n",
       " (0.009510837274841812, 'Pclass_third'),\n",
       " (0.01058105636441312, 'sex_female'),\n",
       " (0.014328776293690806, 'sex_male'),\n",
       " (0.0417850159090884, 'Embarked_c'),\n",
       " (0.042001978028390605, 'Embarked_q'),\n",
       " (0.05381803358240215, 'Embarked_s'),\n",
       " (0.056021636296329426, 'call_factorize'),\n",
       " (0.08266918167695349, 'cabin_first'),\n",
       " (0.10695998050943312, 'child_family_little_2'),\n",
       " (0.14517275751001654, 'male_than_50'),\n",
       " (0.3835084001791735, 'is_group')]"
      ]
     },
     "execution_count": 43,
     "metadata": {},
     "output_type": "execute_result"
    }
   ],
   "source": [
    "score.sort()\n",
    "list(zip(score,train_feature.columns[1:]))\n",
    "#舍弃得分小于0.01的特征\n"
   ]
  },
  {
   "cell_type": "code",
   "execution_count": 253,
   "id": "9cfad7f5",
   "metadata": {},
   "outputs": [
    {
     "name": "stdout",
     "output_type": "stream",
     "text": [
      "<class 'pandas.core.frame.DataFrame'>\n",
      "RangeIndex: 418 entries, 0 to 417\n",
      "Data columns (total 13 columns):\n",
      " #   Column          Non-Null Count  Dtype  \n",
      "---  ------          --------------  -----  \n",
      " 0   PassengerId     418 non-null    int64  \n",
      " 1   Pclass          418 non-null    int64  \n",
      " 2   Name            418 non-null    object \n",
      " 3   Sex             418 non-null    object \n",
      " 4   Age             332 non-null    float64\n",
      " 5   SibSp           418 non-null    int64  \n",
      " 6   Parch           418 non-null    int64  \n",
      " 7   Ticket          418 non-null    object \n",
      " 8   Fare            417 non-null    float64\n",
      " 9   Cabin           91 non-null     object \n",
      " 10  Embarked        418 non-null    object \n",
      " 11  family          418 non-null    int64  \n",
      " 12  scaler_of_fare  417 non-null    float64\n",
      "dtypes: float64(3), int64(5), object(5)\n",
      "memory usage: 42.6+ KB\n"
     ]
    }
   ],
   "source": [
    "test.info()\n",
    "#测试集在Age和Cabin和Fare上有缺失"
   ]
  },
  {
   "cell_type": "code",
   "execution_count": 31,
   "id": "2c17f094",
   "metadata": {},
   "outputs": [],
   "source": [
    "#测试集同样处理\n",
    "test['family'] = test['SibSp'] + test['Parch']\n",
    "test.loc[test.Fare.isnull(),'Fare'] = df.Fare.mode()[0]\n",
    "fare_scaler = scaler.fit(test.Fare.values.reshape(-1,1))\n",
    "test['scaler_of_fare'] = fare_scaler.fit_transform(test.Fare.values.reshape(-1,1))\n"
   ]
  },
  {
   "cell_type": "code",
   "execution_count": 32,
   "id": "1fcb4fd0",
   "metadata": {},
   "outputs": [],
   "source": [
    "test.Cabin[test.Cabin.isnull()] = 'Z'\n"
   ]
  },
  {
   "cell_type": "code",
   "execution_count": 33,
   "id": "858d3b34",
   "metadata": {},
   "outputs": [],
   "source": [
    "age_test = test[['Age','Pclass','SibSp','Parch','scaler_of_fare']]\n",
    "known_age_test = age_test[age_test.Age.notnull()].values\n",
    "unknown_age_test = age_test[age_test.Age.isnull()].values\n",
    "y = known_age_test[:,0]\n",
    "x = known_age_test[:,1:]\n",
    "# 创建分类器进行拟合、预测、填充\n",
    "rfr = RandomForestRegressor(random_state=0,n_estimators=2000,n_jobs=-1)\n",
    "rfr.fit(x,y)\n",
    "predictedAges = rfr.predict(unknown_age_test[:,1::])\n",
    "test.loc[age_test.Age.isnull(),'Age'] = predictedAges\n",
    "\n"
   ]
  },
  {
   "cell_type": "code",
   "execution_count": 34,
   "id": "d1b1b2cd",
   "metadata": {},
   "outputs": [],
   "source": [
    "cut_age = [0,7,11,16,36,38,63,78,100] \n",
    "test[['age_0_7','age_7_11','age_11_16','age_16_36','age_36_38','age_38_63','age_63_78','age_78_100']] = pd.get_dummies(pd.cut(test_original.Age,cut_age))\n"
   ]
  },
  {
   "cell_type": "code",
   "execution_count": 35,
   "id": "716b6bec",
   "metadata": {},
   "outputs": [],
   "source": [
    "test[['fare_0_7','fare_7_10','fare_10_21','fare_21_39','fare_39_512']] = pd.get_dummies(pd.qcut(test['Fare'],5))\n",
    "test['name_len'] = test.Name.apply(len)\n",
    "#cut_name_len = []\n",
    "#同样qcut自动分桶\n",
    "test[['name_12_20','name_20_25','name_25_30','name_30_82']] = pd.get_dummies(pd.qcut(test.name_len,4))"
   ]
  },
  {
   "cell_type": "code",
   "execution_count": 36,
   "id": "7a4036ff",
   "metadata": {},
   "outputs": [],
   "source": [
    "test[['Pclass_first','Pclass_second','Pclass_third']] = pd.get_dummies(test.Pclass)\n",
    "test[['sex_female','sex_male']] = pd.get_dummies(test.Sex)\n",
    "test[['Embarked_c','Embarked_q','Embarked_s']] = pd.get_dummies(test.Embarked)"
   ]
  },
  {
   "cell_type": "code",
   "execution_count": 37,
   "id": "53e30678",
   "metadata": {},
   "outputs": [],
   "source": [
    "test[['fame','last_name']] = test.Name.str.split(',',expand=True)\n"
   ]
  },
  {
   "cell_type": "code",
   "execution_count": 38,
   "id": "f9a987fa",
   "metadata": {},
   "outputs": [],
   "source": [
    "\n",
    "test[['call','last_name_2']] = test.last_name.str.split('.',expand=True)\n",
    "test['call_factorize'] = pd.factorize(test.call)[0]\n"
   ]
  },
  {
   "cell_type": "code",
   "execution_count": 39,
   "id": "4c7fa9b5",
   "metadata": {},
   "outputs": [],
   "source": [
    "test['cabin_first'] = test['Cabin'].map(lambda x:re.compile(\"([a-zA-Z]+)\").search(x).group())\n",
    "test['cabin_first'] = pd.factorize(test['cabin_first'])[0]\n",
    "test['male_than_50'] = 0\n",
    "test.loc[test.query('Age >= 50').query('Sex == \"male\"').index,'male_than_50'] = 1"
   ]
  },
  {
   "cell_type": "code",
   "execution_count": 40,
   "id": "5be3ce6b",
   "metadata": {},
   "outputs": [],
   "source": [
    "test['child_family_little_2'] = 0\n",
    "test.loc[test.query('0<=Age<16').query('family <=3 ').index,'child_family_little_2'] = 1\n",
    "test[['Baptismal_name','new_name']] = test.Name.str.split(',',expand=True)\n",
    "#Ticket相同，且教名相同\n",
    "list_small_ticket = list(test.groupby(['Ticket','Baptismal_name'],as_index=False).count().query('Pclass==1').Baptismal_name)\n",
    "chang_Baptismal_name = lambda x:0 if x in list_small_ticket else 1\n",
    "test['is_group'] = test.Baptismal_name.apply(chang_Baptismal_name)"
   ]
  },
  {
   "cell_type": "code",
   "execution_count": 41,
   "id": "5a0a1e4c",
   "metadata": {},
   "outputs": [
    {
     "data": {
      "text/html": [
       "<div>\n",
       "<style scoped>\n",
       "    .dataframe tbody tr th:only-of-type {\n",
       "        vertical-align: middle;\n",
       "    }\n",
       "\n",
       "    .dataframe tbody tr th {\n",
       "        vertical-align: top;\n",
       "    }\n",
       "\n",
       "    .dataframe thead th {\n",
       "        text-align: right;\n",
       "    }\n",
       "</style>\n",
       "<table border=\"1\" class=\"dataframe\">\n",
       "  <thead>\n",
       "    <tr style=\"text-align: right;\">\n",
       "      <th></th>\n",
       "      <th>Survived</th>\n",
       "      <th>family</th>\n",
       "      <th>scaler_of_fare</th>\n",
       "      <th>age_0_7</th>\n",
       "      <th>age_7_11</th>\n",
       "      <th>age_11_16</th>\n",
       "      <th>age_16_36</th>\n",
       "      <th>age_36_38</th>\n",
       "      <th>age_38_63</th>\n",
       "      <th>age_63_78</th>\n",
       "      <th>age_78_100</th>\n",
       "      <th>name_12_20</th>\n",
       "      <th>name_20_25</th>\n",
       "      <th>name_25_30</th>\n",
       "      <th>name_30_82</th>\n",
       "      <th>Pclass_first</th>\n",
       "      <th>Pclass_second</th>\n",
       "      <th>Pclass_third</th>\n",
       "      <th>sex_female</th>\n",
       "      <th>sex_male</th>\n",
       "      <th>Embarked_c</th>\n",
       "      <th>Embarked_q</th>\n",
       "      <th>Embarked_s</th>\n",
       "      <th>call_factorize</th>\n",
       "      <th>cabin_first</th>\n",
       "      <th>child_family_little_2</th>\n",
       "      <th>male_than_50</th>\n",
       "      <th>is_group</th>\n",
       "    </tr>\n",
       "  </thead>\n",
       "  <tbody>\n",
       "    <tr>\n",
       "      <th>0</th>\n",
       "      <td>0</td>\n",
       "      <td>1</td>\n",
       "      <td>-0.502445</td>\n",
       "      <td>0</td>\n",
       "      <td>0</td>\n",
       "      <td>0</td>\n",
       "      <td>1</td>\n",
       "      <td>0</td>\n",
       "      <td>0</td>\n",
       "      <td>0</td>\n",
       "      <td>0</td>\n",
       "      <td>0</td>\n",
       "      <td>1</td>\n",
       "      <td>0</td>\n",
       "      <td>0</td>\n",
       "      <td>0</td>\n",
       "      <td>0</td>\n",
       "      <td>1</td>\n",
       "      <td>0</td>\n",
       "      <td>1</td>\n",
       "      <td>0</td>\n",
       "      <td>0</td>\n",
       "      <td>1</td>\n",
       "      <td>0</td>\n",
       "      <td>0</td>\n",
       "      <td>0</td>\n",
       "      <td>0</td>\n",
       "      <td>0</td>\n",
       "    </tr>\n",
       "    <tr>\n",
       "      <th>1</th>\n",
       "      <td>1</td>\n",
       "      <td>1</td>\n",
       "      <td>0.786845</td>\n",
       "      <td>0</td>\n",
       "      <td>0</td>\n",
       "      <td>0</td>\n",
       "      <td>0</td>\n",
       "      <td>1</td>\n",
       "      <td>0</td>\n",
       "      <td>0</td>\n",
       "      <td>0</td>\n",
       "      <td>0</td>\n",
       "      <td>0</td>\n",
       "      <td>0</td>\n",
       "      <td>1</td>\n",
       "      <td>1</td>\n",
       "      <td>0</td>\n",
       "      <td>0</td>\n",
       "      <td>1</td>\n",
       "      <td>0</td>\n",
       "      <td>1</td>\n",
       "      <td>0</td>\n",
       "      <td>0</td>\n",
       "      <td>1</td>\n",
       "      <td>1</td>\n",
       "      <td>0</td>\n",
       "      <td>0</td>\n",
       "      <td>0</td>\n",
       "    </tr>\n",
       "    <tr>\n",
       "      <th>2</th>\n",
       "      <td>1</td>\n",
       "      <td>0</td>\n",
       "      <td>-0.488854</td>\n",
       "      <td>0</td>\n",
       "      <td>0</td>\n",
       "      <td>0</td>\n",
       "      <td>1</td>\n",
       "      <td>0</td>\n",
       "      <td>0</td>\n",
       "      <td>0</td>\n",
       "      <td>0</td>\n",
       "      <td>0</td>\n",
       "      <td>1</td>\n",
       "      <td>0</td>\n",
       "      <td>0</td>\n",
       "      <td>0</td>\n",
       "      <td>0</td>\n",
       "      <td>1</td>\n",
       "      <td>1</td>\n",
       "      <td>0</td>\n",
       "      <td>0</td>\n",
       "      <td>0</td>\n",
       "      <td>1</td>\n",
       "      <td>2</td>\n",
       "      <td>0</td>\n",
       "      <td>0</td>\n",
       "      <td>0</td>\n",
       "      <td>0</td>\n",
       "    </tr>\n",
       "    <tr>\n",
       "      <th>3</th>\n",
       "      <td>1</td>\n",
       "      <td>1</td>\n",
       "      <td>0.420730</td>\n",
       "      <td>0</td>\n",
       "      <td>0</td>\n",
       "      <td>0</td>\n",
       "      <td>1</td>\n",
       "      <td>0</td>\n",
       "      <td>0</td>\n",
       "      <td>0</td>\n",
       "      <td>0</td>\n",
       "      <td>0</td>\n",
       "      <td>0</td>\n",
       "      <td>0</td>\n",
       "      <td>1</td>\n",
       "      <td>1</td>\n",
       "      <td>0</td>\n",
       "      <td>0</td>\n",
       "      <td>1</td>\n",
       "      <td>0</td>\n",
       "      <td>0</td>\n",
       "      <td>0</td>\n",
       "      <td>1</td>\n",
       "      <td>1</td>\n",
       "      <td>1</td>\n",
       "      <td>0</td>\n",
       "      <td>0</td>\n",
       "      <td>1</td>\n",
       "    </tr>\n",
       "    <tr>\n",
       "      <th>4</th>\n",
       "      <td>0</td>\n",
       "      <td>0</td>\n",
       "      <td>-0.486337</td>\n",
       "      <td>0</td>\n",
       "      <td>0</td>\n",
       "      <td>0</td>\n",
       "      <td>1</td>\n",
       "      <td>0</td>\n",
       "      <td>0</td>\n",
       "      <td>0</td>\n",
       "      <td>0</td>\n",
       "      <td>0</td>\n",
       "      <td>1</td>\n",
       "      <td>0</td>\n",
       "      <td>0</td>\n",
       "      <td>0</td>\n",
       "      <td>0</td>\n",
       "      <td>1</td>\n",
       "      <td>0</td>\n",
       "      <td>1</td>\n",
       "      <td>0</td>\n",
       "      <td>0</td>\n",
       "      <td>1</td>\n",
       "      <td>0</td>\n",
       "      <td>0</td>\n",
       "      <td>0</td>\n",
       "      <td>0</td>\n",
       "      <td>0</td>\n",
       "    </tr>\n",
       "    <tr>\n",
       "      <th>...</th>\n",
       "      <td>...</td>\n",
       "      <td>...</td>\n",
       "      <td>...</td>\n",
       "      <td>...</td>\n",
       "      <td>...</td>\n",
       "      <td>...</td>\n",
       "      <td>...</td>\n",
       "      <td>...</td>\n",
       "      <td>...</td>\n",
       "      <td>...</td>\n",
       "      <td>...</td>\n",
       "      <td>...</td>\n",
       "      <td>...</td>\n",
       "      <td>...</td>\n",
       "      <td>...</td>\n",
       "      <td>...</td>\n",
       "      <td>...</td>\n",
       "      <td>...</td>\n",
       "      <td>...</td>\n",
       "      <td>...</td>\n",
       "      <td>...</td>\n",
       "      <td>...</td>\n",
       "      <td>...</td>\n",
       "      <td>...</td>\n",
       "      <td>...</td>\n",
       "      <td>...</td>\n",
       "      <td>...</td>\n",
       "      <td>...</td>\n",
       "    </tr>\n",
       "    <tr>\n",
       "      <th>886</th>\n",
       "      <td>0</td>\n",
       "      <td>0</td>\n",
       "      <td>-0.386671</td>\n",
       "      <td>0</td>\n",
       "      <td>0</td>\n",
       "      <td>0</td>\n",
       "      <td>1</td>\n",
       "      <td>0</td>\n",
       "      <td>0</td>\n",
       "      <td>0</td>\n",
       "      <td>0</td>\n",
       "      <td>0</td>\n",
       "      <td>1</td>\n",
       "      <td>0</td>\n",
       "      <td>0</td>\n",
       "      <td>0</td>\n",
       "      <td>1</td>\n",
       "      <td>0</td>\n",
       "      <td>0</td>\n",
       "      <td>1</td>\n",
       "      <td>0</td>\n",
       "      <td>0</td>\n",
       "      <td>1</td>\n",
       "      <td>5</td>\n",
       "      <td>0</td>\n",
       "      <td>0</td>\n",
       "      <td>0</td>\n",
       "      <td>0</td>\n",
       "    </tr>\n",
       "    <tr>\n",
       "      <th>887</th>\n",
       "      <td>1</td>\n",
       "      <td>0</td>\n",
       "      <td>-0.044381</td>\n",
       "      <td>0</td>\n",
       "      <td>0</td>\n",
       "      <td>0</td>\n",
       "      <td>1</td>\n",
       "      <td>0</td>\n",
       "      <td>0</td>\n",
       "      <td>0</td>\n",
       "      <td>0</td>\n",
       "      <td>0</td>\n",
       "      <td>0</td>\n",
       "      <td>1</td>\n",
       "      <td>0</td>\n",
       "      <td>1</td>\n",
       "      <td>0</td>\n",
       "      <td>0</td>\n",
       "      <td>1</td>\n",
       "      <td>0</td>\n",
       "      <td>0</td>\n",
       "      <td>0</td>\n",
       "      <td>1</td>\n",
       "      <td>2</td>\n",
       "      <td>6</td>\n",
       "      <td>0</td>\n",
       "      <td>0</td>\n",
       "      <td>0</td>\n",
       "    </tr>\n",
       "    <tr>\n",
       "      <th>888</th>\n",
       "      <td>0</td>\n",
       "      <td>3</td>\n",
       "      <td>-0.176263</td>\n",
       "      <td>0</td>\n",
       "      <td>0</td>\n",
       "      <td>0</td>\n",
       "      <td>0</td>\n",
       "      <td>0</td>\n",
       "      <td>0</td>\n",
       "      <td>0</td>\n",
       "      <td>0</td>\n",
       "      <td>0</td>\n",
       "      <td>0</td>\n",
       "      <td>0</td>\n",
       "      <td>1</td>\n",
       "      <td>0</td>\n",
       "      <td>0</td>\n",
       "      <td>1</td>\n",
       "      <td>1</td>\n",
       "      <td>0</td>\n",
       "      <td>0</td>\n",
       "      <td>0</td>\n",
       "      <td>1</td>\n",
       "      <td>2</td>\n",
       "      <td>0</td>\n",
       "      <td>0</td>\n",
       "      <td>0</td>\n",
       "      <td>1</td>\n",
       "    </tr>\n",
       "    <tr>\n",
       "      <th>889</th>\n",
       "      <td>1</td>\n",
       "      <td>0</td>\n",
       "      <td>-0.044381</td>\n",
       "      <td>0</td>\n",
       "      <td>0</td>\n",
       "      <td>0</td>\n",
       "      <td>1</td>\n",
       "      <td>0</td>\n",
       "      <td>0</td>\n",
       "      <td>0</td>\n",
       "      <td>0</td>\n",
       "      <td>0</td>\n",
       "      <td>1</td>\n",
       "      <td>0</td>\n",
       "      <td>0</td>\n",
       "      <td>1</td>\n",
       "      <td>0</td>\n",
       "      <td>0</td>\n",
       "      <td>0</td>\n",
       "      <td>1</td>\n",
       "      <td>1</td>\n",
       "      <td>0</td>\n",
       "      <td>0</td>\n",
       "      <td>0</td>\n",
       "      <td>1</td>\n",
       "      <td>0</td>\n",
       "      <td>0</td>\n",
       "      <td>0</td>\n",
       "    </tr>\n",
       "    <tr>\n",
       "      <th>890</th>\n",
       "      <td>0</td>\n",
       "      <td>0</td>\n",
       "      <td>-0.492378</td>\n",
       "      <td>0</td>\n",
       "      <td>0</td>\n",
       "      <td>0</td>\n",
       "      <td>1</td>\n",
       "      <td>0</td>\n",
       "      <td>0</td>\n",
       "      <td>0</td>\n",
       "      <td>0</td>\n",
       "      <td>1</td>\n",
       "      <td>0</td>\n",
       "      <td>0</td>\n",
       "      <td>0</td>\n",
       "      <td>0</td>\n",
       "      <td>0</td>\n",
       "      <td>1</td>\n",
       "      <td>0</td>\n",
       "      <td>1</td>\n",
       "      <td>0</td>\n",
       "      <td>1</td>\n",
       "      <td>0</td>\n",
       "      <td>0</td>\n",
       "      <td>0</td>\n",
       "      <td>0</td>\n",
       "      <td>0</td>\n",
       "      <td>0</td>\n",
       "    </tr>\n",
       "  </tbody>\n",
       "</table>\n",
       "<p>891 rows × 28 columns</p>\n",
       "</div>"
      ],
      "text/plain": [
       "     Survived  family  scaler_of_fare  age_0_7  age_7_11  age_11_16  \\\n",
       "0           0       1       -0.502445        0         0          0   \n",
       "1           1       1        0.786845        0         0          0   \n",
       "2           1       0       -0.488854        0         0          0   \n",
       "3           1       1        0.420730        0         0          0   \n",
       "4           0       0       -0.486337        0         0          0   \n",
       "..        ...     ...             ...      ...       ...        ...   \n",
       "886         0       0       -0.386671        0         0          0   \n",
       "887         1       0       -0.044381        0         0          0   \n",
       "888         0       3       -0.176263        0         0          0   \n",
       "889         1       0       -0.044381        0         0          0   \n",
       "890         0       0       -0.492378        0         0          0   \n",
       "\n",
       "     age_16_36  age_36_38  age_38_63  age_63_78  age_78_100  name_12_20  \\\n",
       "0            1          0          0          0           0           0   \n",
       "1            0          1          0          0           0           0   \n",
       "2            1          0          0          0           0           0   \n",
       "3            1          0          0          0           0           0   \n",
       "4            1          0          0          0           0           0   \n",
       "..         ...        ...        ...        ...         ...         ...   \n",
       "886          1          0          0          0           0           0   \n",
       "887          1          0          0          0           0           0   \n",
       "888          0          0          0          0           0           0   \n",
       "889          1          0          0          0           0           0   \n",
       "890          1          0          0          0           0           1   \n",
       "\n",
       "     name_20_25  name_25_30  name_30_82  Pclass_first  Pclass_second  \\\n",
       "0             1           0           0             0              0   \n",
       "1             0           0           1             1              0   \n",
       "2             1           0           0             0              0   \n",
       "3             0           0           1             1              0   \n",
       "4             1           0           0             0              0   \n",
       "..          ...         ...         ...           ...            ...   \n",
       "886           1           0           0             0              1   \n",
       "887           0           1           0             1              0   \n",
       "888           0           0           1             0              0   \n",
       "889           1           0           0             1              0   \n",
       "890           0           0           0             0              0   \n",
       "\n",
       "     Pclass_third  sex_female  sex_male  Embarked_c  Embarked_q  Embarked_s  \\\n",
       "0               1           0         1           0           0           1   \n",
       "1               0           1         0           1           0           0   \n",
       "2               1           1         0           0           0           1   \n",
       "3               0           1         0           0           0           1   \n",
       "4               1           0         1           0           0           1   \n",
       "..            ...         ...       ...         ...         ...         ...   \n",
       "886             0           0         1           0           0           1   \n",
       "887             0           1         0           0           0           1   \n",
       "888             1           1         0           0           0           1   \n",
       "889             0           0         1           1           0           0   \n",
       "890             1           0         1           0           1           0   \n",
       "\n",
       "     call_factorize  cabin_first  child_family_little_2  male_than_50  \\\n",
       "0                 0            0                      0             0   \n",
       "1                 1            1                      0             0   \n",
       "2                 2            0                      0             0   \n",
       "3                 1            1                      0             0   \n",
       "4                 0            0                      0             0   \n",
       "..              ...          ...                    ...           ...   \n",
       "886               5            0                      0             0   \n",
       "887               2            6                      0             0   \n",
       "888               2            0                      0             0   \n",
       "889               0            1                      0             0   \n",
       "890               0            0                      0             0   \n",
       "\n",
       "     is_group  \n",
       "0           0  \n",
       "1           0  \n",
       "2           0  \n",
       "3           1  \n",
       "4           0  \n",
       "..        ...  \n",
       "886         0  \n",
       "887         0  \n",
       "888         1  \n",
       "889         0  \n",
       "890         0  \n",
       "\n",
       "[891 rows x 28 columns]"
      ]
     },
     "execution_count": 41,
     "metadata": {},
     "output_type": "execute_result"
    }
   ],
   "source": [
    "train_feature"
   ]
  },
  {
   "cell_type": "code",
   "execution_count": 42,
   "id": "c55ef667",
   "metadata": {},
   "outputs": [],
   "source": [
    "train_feature_x = train_feature[['Pclass_second','sex_female','Embarked_c','scaler_of_fare','family','child_family_little_2',\n",
    "                               'cabin_first','call_factorize','name_12_20','male_than_50','is_group']]\n",
    "train_feature_y = train_feature['Survived']"
   ]
  },
  {
   "cell_type": "raw",
   "id": "71412c26",
   "metadata": {},
   "source": []
  },
  {
   "cell_type": "code",
   "execution_count": 50,
   "id": "fe5a1cb1",
   "metadata": {},
   "outputs": [],
   "source": [
    "from sklearn.linear_model import LogisticRegression # 逻辑回归\n",
    "from sklearn.neighbors import KNeighborsClassifier  # K近邻\n",
    "from sklearn.svm import SVC                         # 支持向量机\n",
    "from sklearn.tree import DecisionTreeClassifier     # 决策树\n",
    "from sklearn.ensemble import RandomForestClassifier # 随机森林\n",
    "from sklearn.ensemble import AdaBoostClassifier     # AdaBoost\n",
    "from xgboost.sklearn import XGBClassifier           # Xgboost\n",
    "from lightgbm.sklearn import LGBMClassifier \n",
    "from sklearn.metrics import accuracy_score"
   ]
  },
  {
   "cell_type": "code",
   "execution_count": 44,
   "id": "c54f9948",
   "metadata": {},
   "outputs": [],
   "source": [
    "from sklearn.model_selection import GridSearchCV\n",
    "from sklearn.model_selection import StratifiedKFold,KFold\n",
    "from sklearn.pipeline import Pipeline\n",
    "from sklearn.preprocessing import MinMaxScaler\n",
    "\n",
    "def check_model(x_train,y_train,clf,clf_name,parameters,k_fold,metrics='accuracy'):\n",
    "    # 管道机制使得参数集在新数据集（比如测试集）上的重复使用，管道机制实现了对全部步骤的流式化封装和管理。\n",
    "    pipeline = Pipeline([('scaler',MinMaxScaler()),(clf_name,clf)])\n",
    "    \n",
    "    # k折采样\n",
    "    #folder = KFold(n_splits=k_fold, shuffle=True)\n",
    "    # 分层k折采样\n",
    "    folder = StratifiedKFold(n_splits=k_fold, shuffle=True)\n",
    "    \n",
    "    grid_search = GridSearchCV(estimator=pipeline,\n",
    "                               param_grid=parameters,\n",
    "                               cv=folder,\n",
    "                               scoring=metrics)\n",
    "    gs=grid_search.fit(x_train,y_train)\n",
    "    print('GridSearch 最优参数：{}，最优分数：{}'.format(gs.best_params_,gs.best_score_))\n",
    "    return gs"
   ]
  },
  {
   "cell_type": "code",
   "execution_count": 45,
   "id": "b6205aaa",
   "metadata": {},
   "outputs": [
    {
     "data": {
      "text/plain": [
       "array([0.81005587, 0.81460674, 0.80337079, 0.8258427 , 0.8258427 ])"
      ]
     },
     "execution_count": 45,
     "metadata": {},
     "output_type": "execute_result"
    }
   ],
   "source": [
    "x = train_feature_x\n",
    "y = train_feature_y\n",
    "x_train,x_valid,y_train,y_valid=train_test_split(x,y,test_size=0.2)\n",
    "cross_val_score(classifier,x,y,cv=5)"
   ]
  },
  {
   "cell_type": "code",
   "execution_count": 95,
   "id": "334b5738",
   "metadata": {},
   "outputs": [
    {
     "name": "stdout",
     "output_type": "stream",
     "text": [
      "GridSearch 最优参数：{'svc__C': 0.1, 'svc__gamma': 0.01}，最优分数：0.6161593082114736\n",
      "0.6424581005586593\n"
     ]
    }
   ],
   "source": [
    "num_folds = 7 \n",
    "svc = SVC()\n",
    "svc_parameters = {'svc__C':[0.1],'svc__gamma':[0.01]}\n",
    "svc_model = check_model(train_feature_x,train_feature_y,svc,'svc',svc_parameters,num_folds)\n",
    "y_pred = svc_model.predict(x_valid)\n",
    "print(accuracy_score(y_pred,y_valid))\n"
   ]
  },
  {
   "cell_type": "code",
   "execution_count": 133,
   "id": "3548cd10",
   "metadata": {},
   "outputs": [
    {
     "name": "stdout",
     "output_type": "stream",
     "text": [
      "GridSearch 最优参数：{'dtc__max_depth': 8}，最优分数：0.8237485939257594\n",
      "0.9106145251396648\n"
     ]
    }
   ],
   "source": [
    "num_folds = 7 \n",
    "dtc = DecisionTreeClassifier()\n",
    "dtc_parameters = {'dtc__max_depth':range(5,20)}\n",
    "\n",
    "dtc_model = check_model(train_feature_x,train_feature_y,dtc,'dtc',dtc_parameters,num_folds)\n",
    "y_pred = dtc_model.predict(x_valid)\n",
    "print(accuracy_score(y_pred,y_valid))"
   ]
  },
  {
   "cell_type": "code",
   "execution_count": 65,
   "id": "c07ba3de",
   "metadata": {},
   "outputs": [
    {
     "name": "stdout",
     "output_type": "stream",
     "text": [
      "GridSearch 最优参数：{'rfc__max_features': 7, 'rfc__n_estimators': 19}，最优分数：0.8249261811023623\n",
      "0.9664804469273743\n"
     ]
    }
   ],
   "source": [
    "num_folds = 7 \n",
    "rfc = RandomForestClassifier()\n",
    "#rfc_parameters = {'rfc__max_features':range(2,12),'rfc__n_estimators':range(10,20)} \n",
    "rfc_parameters = {'rfc__max_features':range(2,12)}\n",
    "rfc_model = check_model(train_feature_x,train_feature_y,rfc,'rfc',rfc_parameters,num_folds)\n",
    "y_pred = rfc_model.predict(x_valid)\n",
    "print(accuracy_score(y_pred,y_valid))"
   ]
  },
  {
   "cell_type": "code",
   "execution_count": 102,
   "id": "e192942a",
   "metadata": {},
   "outputs": [
    {
     "name": "stdout",
     "output_type": "stream",
     "text": [
      "GridSearch 最优参数：{'knc__n_neighbors': 7}，最优分数：0.8237749578177729\n",
      "0.8603351955307262\n"
     ]
    }
   ],
   "source": [
    "num_folds = 7 \n",
    "knc = KNeighborsClassifier()\n",
    "knc_parameters = {'knc__n_neighbors':range(6,12)}\n",
    "knc_model = check_model(train_feature_x,train_feature_y,knc,'knc',knc_parameters,num_folds)\n",
    "y_pred = knc_model.predict(x_valid)\n",
    "print(accuracy_score(y_pred,y_valid))"
   ]
  },
  {
   "cell_type": "code",
   "execution_count": 59,
   "id": "67fd35ac",
   "metadata": {},
   "outputs": [
    {
     "name": "stdout",
     "output_type": "stream",
     "text": [
      "GridSearch 最优参数：{'abc__n_estimators': 80}，最优分数：0.8215164510686165\n",
      "0.88268156424581\n"
     ]
    }
   ],
   "source": [
    "num_folds = 7 \n",
    "abc = AdaBoostClassifier()\n",
    "abc_parameters = {'abc__n_estimators':range(70,100)}\n",
    "abc_model = check_model(train_feature_x,train_feature_y,abc,'abc',abc_parameters,num_folds)\n",
    "y_pred = abc_model.predict(x_valid)\n",
    "print(accuracy_score(y_pred,y_valid))"
   ]
  },
  {
   "cell_type": "code",
   "execution_count": 51,
   "id": "cacd5d6b",
   "metadata": {},
   "outputs": [
    {
     "name": "stdout",
     "output_type": "stream",
     "text": [
      "GridSearch 最优参数：{'lr__C': 1, 'lr__penalty': 'l2'}，最优分数：0.814820022497188\n",
      "0.8603351955307262\n"
     ]
    }
   ],
   "source": [
    "num_folds = 7 \n",
    "lr = LogisticRegression()\n",
    "lr_parameters = {'lr__penalty':['l1', 'l2', 'elsticnet'],'lr__C':range(0,2)}\n",
    "lr_model = check_model(train_feature_x,train_feature_y,lr,'lr',lr_parameters,num_folds)\n",
    "y_pred = lr_model.predict(x_valid)\n",
    "print(accuracy_score(y_pred,y_valid))"
   ]
  },
  {
   "cell_type": "code",
   "execution_count": 56,
   "id": "d011403a",
   "metadata": {},
   "outputs": [],
   "source": [
    "test_feature = test[['Pclass_second','sex_female','Embarked_c','scaler_of_fare','family','child_family_little_2',\n",
    "                               'cabin_first','call_factorize','name_12_20','male_than_50','is_group']]"
   ]
  },
  {
   "cell_type": "code",
   "execution_count": 57,
   "id": "a6c93cc7",
   "metadata": {},
   "outputs": [
    {
     "data": {
      "text/html": [
       "<div>\n",
       "<style scoped>\n",
       "    .dataframe tbody tr th:only-of-type {\n",
       "        vertical-align: middle;\n",
       "    }\n",
       "\n",
       "    .dataframe tbody tr th {\n",
       "        vertical-align: top;\n",
       "    }\n",
       "\n",
       "    .dataframe thead th {\n",
       "        text-align: right;\n",
       "    }\n",
       "</style>\n",
       "<table border=\"1\" class=\"dataframe\">\n",
       "  <thead>\n",
       "    <tr style=\"text-align: right;\">\n",
       "      <th></th>\n",
       "      <th>Pclass_second</th>\n",
       "      <th>sex_female</th>\n",
       "      <th>Embarked_c</th>\n",
       "      <th>scaler_of_fare</th>\n",
       "      <th>family</th>\n",
       "      <th>child_family_little_2</th>\n",
       "      <th>cabin_first</th>\n",
       "      <th>call_factorize</th>\n",
       "      <th>name_12_20</th>\n",
       "      <th>male_than_50</th>\n",
       "      <th>is_group</th>\n",
       "    </tr>\n",
       "  </thead>\n",
       "  <tbody>\n",
       "    <tr>\n",
       "      <th>0</th>\n",
       "      <td>0</td>\n",
       "      <td>0</td>\n",
       "      <td>0</td>\n",
       "      <td>-0.497079</td>\n",
       "      <td>0</td>\n",
       "      <td>0</td>\n",
       "      <td>0</td>\n",
       "      <td>0</td>\n",
       "      <td>1</td>\n",
       "      <td>0</td>\n",
       "      <td>0</td>\n",
       "    </tr>\n",
       "    <tr>\n",
       "      <th>1</th>\n",
       "      <td>0</td>\n",
       "      <td>1</td>\n",
       "      <td>0</td>\n",
       "      <td>-0.511942</td>\n",
       "      <td>1</td>\n",
       "      <td>0</td>\n",
       "      <td>0</td>\n",
       "      <td>1</td>\n",
       "      <td>0</td>\n",
       "      <td>0</td>\n",
       "      <td>0</td>\n",
       "    </tr>\n",
       "    <tr>\n",
       "      <th>2</th>\n",
       "      <td>1</td>\n",
       "      <td>0</td>\n",
       "      <td>0</td>\n",
       "      <td>-0.463770</td>\n",
       "      <td>0</td>\n",
       "      <td>0</td>\n",
       "      <td>0</td>\n",
       "      <td>0</td>\n",
       "      <td>0</td>\n",
       "      <td>1</td>\n",
       "      <td>0</td>\n",
       "    </tr>\n",
       "    <tr>\n",
       "      <th>3</th>\n",
       "      <td>0</td>\n",
       "      <td>0</td>\n",
       "      <td>0</td>\n",
       "      <td>-0.482143</td>\n",
       "      <td>0</td>\n",
       "      <td>0</td>\n",
       "      <td>0</td>\n",
       "      <td>0</td>\n",
       "      <td>1</td>\n",
       "      <td>0</td>\n",
       "      <td>0</td>\n",
       "    </tr>\n",
       "    <tr>\n",
       "      <th>4</th>\n",
       "      <td>0</td>\n",
       "      <td>1</td>\n",
       "      <td>0</td>\n",
       "      <td>-0.417167</td>\n",
       "      <td>2</td>\n",
       "      <td>0</td>\n",
       "      <td>0</td>\n",
       "      <td>1</td>\n",
       "      <td>0</td>\n",
       "      <td>0</td>\n",
       "      <td>0</td>\n",
       "    </tr>\n",
       "    <tr>\n",
       "      <th>...</th>\n",
       "      <td>...</td>\n",
       "      <td>...</td>\n",
       "      <td>...</td>\n",
       "      <td>...</td>\n",
       "      <td>...</td>\n",
       "      <td>...</td>\n",
       "      <td>...</td>\n",
       "      <td>...</td>\n",
       "      <td>...</td>\n",
       "      <td>...</td>\n",
       "      <td>...</td>\n",
       "    </tr>\n",
       "    <tr>\n",
       "      <th>413</th>\n",
       "      <td>0</td>\n",
       "      <td>0</td>\n",
       "      <td>0</td>\n",
       "      <td>-0.493121</td>\n",
       "      <td>0</td>\n",
       "      <td>0</td>\n",
       "      <td>0</td>\n",
       "      <td>0</td>\n",
       "      <td>1</td>\n",
       "      <td>0</td>\n",
       "      <td>0</td>\n",
       "    </tr>\n",
       "    <tr>\n",
       "      <th>414</th>\n",
       "      <td>0</td>\n",
       "      <td>1</td>\n",
       "      <td>1</td>\n",
       "      <td>1.314552</td>\n",
       "      <td>0</td>\n",
       "      <td>0</td>\n",
       "      <td>4</td>\n",
       "      <td>8</td>\n",
       "      <td>0</td>\n",
       "      <td>0</td>\n",
       "      <td>0</td>\n",
       "    </tr>\n",
       "    <tr>\n",
       "      <th>415</th>\n",
       "      <td>0</td>\n",
       "      <td>0</td>\n",
       "      <td>0</td>\n",
       "      <td>-0.507461</td>\n",
       "      <td>0</td>\n",
       "      <td>0</td>\n",
       "      <td>0</td>\n",
       "      <td>0</td>\n",
       "      <td>0</td>\n",
       "      <td>0</td>\n",
       "      <td>0</td>\n",
       "    </tr>\n",
       "    <tr>\n",
       "      <th>416</th>\n",
       "      <td>0</td>\n",
       "      <td>0</td>\n",
       "      <td>0</td>\n",
       "      <td>-0.493121</td>\n",
       "      <td>0</td>\n",
       "      <td>0</td>\n",
       "      <td>0</td>\n",
       "      <td>0</td>\n",
       "      <td>1</td>\n",
       "      <td>0</td>\n",
       "      <td>0</td>\n",
       "    </tr>\n",
       "    <tr>\n",
       "      <th>417</th>\n",
       "      <td>0</td>\n",
       "      <td>0</td>\n",
       "      <td>1</td>\n",
       "      <td>-0.236654</td>\n",
       "      <td>2</td>\n",
       "      <td>0</td>\n",
       "      <td>0</td>\n",
       "      <td>3</td>\n",
       "      <td>0</td>\n",
       "      <td>0</td>\n",
       "      <td>0</td>\n",
       "    </tr>\n",
       "  </tbody>\n",
       "</table>\n",
       "<p>418 rows × 11 columns</p>\n",
       "</div>"
      ],
      "text/plain": [
       "     Pclass_second  sex_female  Embarked_c  scaler_of_fare  family  \\\n",
       "0                0           0           0       -0.497079       0   \n",
       "1                0           1           0       -0.511942       1   \n",
       "2                1           0           0       -0.463770       0   \n",
       "3                0           0           0       -0.482143       0   \n",
       "4                0           1           0       -0.417167       2   \n",
       "..             ...         ...         ...             ...     ...   \n",
       "413              0           0           0       -0.493121       0   \n",
       "414              0           1           1        1.314552       0   \n",
       "415              0           0           0       -0.507461       0   \n",
       "416              0           0           0       -0.493121       0   \n",
       "417              0           0           1       -0.236654       2   \n",
       "\n",
       "     child_family_little_2  cabin_first  call_factorize  name_12_20  \\\n",
       "0                        0            0               0           1   \n",
       "1                        0            0               1           0   \n",
       "2                        0            0               0           0   \n",
       "3                        0            0               0           1   \n",
       "4                        0            0               1           0   \n",
       "..                     ...          ...             ...         ...   \n",
       "413                      0            0               0           1   \n",
       "414                      0            4               8           0   \n",
       "415                      0            0               0           0   \n",
       "416                      0            0               0           1   \n",
       "417                      0            0               3           0   \n",
       "\n",
       "     male_than_50  is_group  \n",
       "0               0         0  \n",
       "1               0         0  \n",
       "2               1         0  \n",
       "3               0         0  \n",
       "4               0         0  \n",
       "..            ...       ...  \n",
       "413             0         0  \n",
       "414             0         0  \n",
       "415             0         0  \n",
       "416             0         0  \n",
       "417             0         0  \n",
       "\n",
       "[418 rows x 11 columns]"
      ]
     },
     "execution_count": 57,
     "metadata": {},
     "output_type": "execute_result"
    }
   ],
   "source": [
    "test_feature"
   ]
  },
  {
   "cell_type": "code",
   "execution_count": 60,
   "id": "d59474bd",
   "metadata": {},
   "outputs": [],
   "source": [
    "def testPredict(testDF,clf,clfName):\n",
    "    submission=testDF\n",
    "    submission_dummy=pd.get_dummies(submission)\n",
    "    preds=clf.predict(submission_dummy)   # 预测\n",
    "    predDF=pd.DataFrame()\n",
    "    predDF['PassengerId']=test['PassengerId']\n",
    "    predDF['Survived']=pd.Series(preds)\n",
    "\n",
    "    output=clfName+'_results.csv'\n",
    "    predDF.to_csv(output,index=False)  # 保存为csv文件\n",
    "    \n",
    "testPredict(test_feature,abc_model,'abc')\n"
   ]
  },
  {
   "cell_type": "code",
   "execution_count": 68,
   "id": "377701d2",
   "metadata": {},
   "outputs": [],
   "source": [
    "testPredict(test_feature,rfc_model,'rfc')"
   ]
  },
  {
   "cell_type": "code",
   "execution_count": 135,
   "id": "44154203",
   "metadata": {},
   "outputs": [],
   "source": [
    "testPredict(test_feature,dtc_model,'dtc')"
   ]
  },
  {
   "cell_type": "code",
   "execution_count": 61,
   "id": "d91e0c67",
   "metadata": {},
   "outputs": [],
   "source": [
    "testPredict(test_feature,lr_model,'lr')"
   ]
  },
  {
   "cell_type": "markdown",
   "id": "7af8a427",
   "metadata": {},
   "source": [
    "# 在选用了11个特征后，随机森林方法达到了80.38%的准确率"
   ]
  },
  {
   "cell_type": "markdown",
   "id": "4856ac8f",
   "metadata": {},
   "source": [
    "\n",
    "![rank](ranking.png)"
   ]
  }
 ],
 "metadata": {
  "kernelspec": {
   "display_name": "Python 3",
   "language": "python",
   "name": "python3"
  },
  "language_info": {
   "codemirror_mode": {
    "name": "ipython",
    "version": 3
   },
   "file_extension": ".py",
   "mimetype": "text/x-python",
   "name": "python",
   "nbconvert_exporter": "python",
   "pygments_lexer": "ipython3",
   "version": "3.8.8"
  }
 },
 "nbformat": 4,
 "nbformat_minor": 5
}
